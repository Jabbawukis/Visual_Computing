{
 "cells": [
  {
   "cell_type": "code",
   "execution_count": 2,
   "metadata": {},
   "outputs": [
    {
     "name": "stderr",
     "output_type": "stream",
     "text": [
      "/home/beckmann/miniconda3/envs/deepfake/lib/python3.7/site-packages/tqdm/auto.py:22: TqdmWarning: IProgress not found. Please update jupyter and ipywidgets. See https://ipywidgets.readthedocs.io/en/stable/user_install.html\n",
      "  from .autonotebook import tqdm as notebook_tqdm\n"
     ]
    }
   ],
   "source": [
    "import numpy as np\n",
    "from torchvision.datasets import MNIST"
   ]
  },
  {
   "cell_type": "code",
   "execution_count": 3,
   "metadata": {},
   "outputs": [
    {
     "name": "stdout",
     "output_type": "stream",
     "text": [
      "60000\n"
     ]
    }
   ],
   "source": [
    "train_data = MNIST(root=\"./\", train=True, transform=None, target_transform=None, download=True)\n",
    "print(len(train_data))"
   ]
  },
  {
   "cell_type": "code",
   "execution_count": 3,
   "metadata": {},
   "outputs": [
    {
     "data": {
      "image/png": "[encoded data removed]",
      "text/plain": [
       "<PIL.Image.Image image mode=L size=28x28 at 0x7FE885B72550>"
      ]
     },
     "metadata": {},
     "output_type": "display_data"
    }
   ],
   "source": [
    "img = train_data.__getitem__(0)[0]\n",
    "display(img)"
   ]
  },
  {
   "cell_type": "code",
   "execution_count": 4,
   "metadata": {},
   "outputs": [
    {
     "data": {
      "image/png": "[encoded data removed]",
      "text/plain": [
       "<PIL.Image.Image image mode=L size=28x28 at 0x7FE8832F5950>"
      ]
     },
     "metadata": {},
     "output_type": "display_data"
    },
    {
     "data": {
      "image/png": "[encoded data removed]",
      "text/plain": [
       "<PIL.Image.Image image mode=L size=28x28 at 0x7FE885B68910>"
      ]
     },
     "metadata": {},
     "output_type": "display_data"
    },
    {
     "data": {
      "image/png": "[encoded data removed]",
      "text/plain": [
       "<PIL.Image.Image image mode=L size=28x28 at 0x7FE885B68F50>"
      ]
     },
     "metadata": {},
     "output_type": "display_data"
    },
    {
     "data": {
      "image/png": "[encoded data removed]",
      "text/plain": [
       "<PIL.Image.Image image mode=L size=28x28 at 0x7FE8832EBB90>"
      ]
     },
     "metadata": {},
     "output_type": "display_data"
    },
    {
     "data": {
      "image/png": "[encoded data removed]",
      "text/plain": [
       "<PIL.Image.Image image mode=L size=28x28 at 0x7FE885B72550>"
      ]
     },
     "metadata": {},
     "output_type": "display_data"
    },
    {
     "data": {
      "image/png": "[encoded data removed]",
      "text/plain": [
       "<PIL.Image.Image image mode=L size=28x28 at 0x7FE885B68F50>"
      ]
     },
     "metadata": {},
     "output_type": "display_data"
    },
    {
     "data": {
      "image/png": "[encoded data removed]",
      "text/plain": [
       "<PIL.Image.Image image mode=L size=28x28 at 0x7FE885E90F10>"
      ]
     },
     "metadata": {},
     "output_type": "display_data"
    },
    {
     "data": {
      "image/png": "[encoded data removed]",
      "text/plain": [
       "<PIL.Image.Image image mode=L size=28x28 at 0x7FE8832EBB90>"
      ]
     },
     "metadata": {},
     "output_type": "display_data"
    },
    {
     "data": {
      "image/png": "[encoded data removed]",
      "text/plain": [
       "<PIL.Image.Image image mode=L size=28x28 at 0x7FE8832E6E10>"
      ]
     },
     "metadata": {},
     "output_type": "display_data"
    }
   ],
   "source": [
    "for i in range(1,10):\n",
    "    img = train_data.__getitem__(i)[0]\n",
    "    display(img)"
   ]
  },
  {
   "cell_type": "code",
   "execution_count": 5,
   "metadata": {},
   "outputs": [],
   "source": [
    "img = np.array(train_data.__getitem__(0)[0])\n",
    "label = np.array(train_data.__getitem__(0)[1])"
   ]
  },
  {
   "cell_type": "code",
   "execution_count": 10,
   "metadata": {},
   "outputs": [],
   "source": [
    "class conv_layer():\n",
    "    def __init__(self, kernel_size: int, zero_padding_size: int, stride: int, weights: list = None):\n",
    "        self.kernel_size = kernel_size\n",
    "        self.zero_padding_size = zero_padding_size\n",
    "        self.stride = stride\n",
    "\n",
    "        if weights is not None:\n",
    "            self.weights = np.array(weights)\n",
    "            self.kernel_size = len(weights)\n",
    "        else:\n",
    "            self.weights = np.random.rand(kernel_size, kernel_size)\n",
    "\n",
    "    def forward(self, input):\n",
    "        batch_size = input.shape[0]\n",
    "        input_shape = input.shape[1]\n",
    "        output_shape = int(np.ceil((input_shape + 2*self.zero_padding_size - self.kernel_size) / self.stride) + 1)\n",
    "\n",
    "        padded_input = np.pad(input, ((0, 0), (self.zero_padding_size, self.zero_padding_size), (self.zero_padding_size, self.zero_padding_size)))\n",
    "        output = np.zeros((batch_size, output_shape, output_shape))\n",
    "\n",
    "        for b in range(batch_size):\n",
    "            for i in range(output_shape):\n",
    "                for j in range(output_shape):\n",
    "                    patch = padded_input[b, i*self.stride:i*self.stride+self.kernel_size, j*self.stride:j*self.stride+self.kernel_size]\n",
    "                    output[b, i, j] = np.sum(patch*self.weights)\n",
    "\n",
    "        return output"
   ]
  },
  {
   "cell_type": "code",
   "execution_count": null,
   "metadata": {},
   "outputs": [],
   "source": [
    "input = np.array([[1,1,1,0,0], [0,1,1,1,0], [0,0,1,1,1], [0,0,1,1,0], [0,1,1,0,0]])\n",
    "input = np.expand_dims(input, 0)\n",
    "weights = [[0,0,1], [0,1,1], [1,1,1]]\n",
    "\n",
    "layer = conv_layer(3, 1, 1, weights)\n",
    "output = layer.forward(input)\n",
    "\n",
    "print(output)\n"
   ]
  },
  {
   "cell_type": "code",
   "execution_count": 5,
   "metadata": {},
   "outputs": [],
   "source": [
    "class fc_layer():\n",
    "    def __init__(self, in_channels: int, out_channels: int, weights: list = None):\n",
    "        self.in_channels = in_channels\n",
    "        self.out_channels = out_channels\n",
    "        \n",
    "        if weights is not None:\n",
    "            self.weights = np.array(weights)\n",
    "        else:\n",
    "            self.weights = np.random.rand(self.in_channels, self.out_channels)\n",
    "\n",
    "    def forward(self, input):\n",
    "        return np.matmul(input, self.weights)"
   ]
  },
  {
   "cell_type": "code",
   "execution_count": 6,
   "metadata": {},
   "outputs": [],
   "source": [
    "def relu(x):\n",
    "    return x * (x > 0)\n",
    "\n",
    "def softmax(x):\n",
    "    exp_vals = np.exp(x - np.max(x, axis=-1, keepdims=True))\n",
    "    return exp_vals / np.sum(exp_vals, axis=-1, keepdims=True)"
   ]
  },
  {
   "cell_type": "code",
   "execution_count": 23,
   "metadata": {},
   "outputs": [],
   "source": [
    "class simple_cnn():\n",
    "    def __init__(self, conv_layer, fc_layer):\n",
    "        self.conv_layer = conv_layer\n",
    "        self.fc_layer = fc_layer\n",
    "\n",
    "    def forward(self, input):\n",
    "        features = self.conv_layer.forward(input)\n",
    "        features = relu(features)\n",
    "        features = features.reshape(features.shape[0], features.shape[1]**2)\n",
    "        output = self.fc_layer.forward(features)\n",
    "        output = softmax(output)\n",
    "\n",
    "        return output"
   ]
  },
  {
   "cell_type": "code",
   "execution_count": 24,
   "metadata": {},
   "outputs": [
    {
     "name": "stdout",
     "output_type": "stream",
     "text": [
      "2 28 28\n",
      "(2, 10)\n"
     ]
    }
   ],
   "source": [
    "input = np.random.rand(2, 28, 28)\n",
    "cl = conv_layer(3, 1, 1, None)\n",
    "fc = fc_layer(28**2, 10)\n",
    "cnn = simple_cnn(cl, fc)\n",
    "out = cnn.forward(input)\n",
    "\n"
   ]
  },
  {
   "cell_type": "code",
   "execution_count": 16,
   "metadata": {},
   "outputs": [],
   "source": [
    "def label_one_hot_encoding(x, dim=10):\n",
    "    output = np.zeros(dim)\n",
    "    output[x] = 1\n",
    "    return output"
   ]
  },
  {
   "cell_type": "code",
   "execution_count": 17,
   "metadata": {},
   "outputs": [],
   "source": [
    "def mse(target, pred):\n",
    "    return np.mean(np.sum((target-pred)**2))"
   ]
  },
  {
   "cell_type": "code",
   "execution_count": 21,
   "metadata": {},
   "outputs": [],
   "source": [
    "def backward_mse_to_fc(input, target, pred, fc_weights):\n",
    "    gradients = np.zeros(fc_weights.shape)\n",
    "    batch_size = input.shape[0]\n",
    "    for b in range(input.shape[0]):\n",
    "        for i in range(gradients.shape[0]):\n",
    "            for j in range(gradients.shape[1]):\n",
    "                gradients[i, j] += (-1 * (target[b, j] - pred[b, j]) * 2 * input[b, i] / gradients.shape[1] ) / batch_size\n",
    "\n",
    "    return gradients"
   ]
  },
  {
   "cell_type": "code",
   "execution_count": null,
   "metadata": {},
   "outputs": [],
   "source": [
    "fc = fc_layer(28**2, 10)\n",
    "\n",
    "lr=1e-2\n",
    "batch_size = 4\n",
    "num_samples = len(train_data)\n",
    "losses = []\n",
    "\n",
    "for i in range(num_samples // batch_size):\n",
    "    input = np.zeros((batch_size, 28**2))\n",
    "    targets = np.zeros((batch_size, 10))\n",
    "\n",
    "    for j in range(batch_size):\n",
    "        # load img\n",
    "        img = np.array(train_data.__getitem__(i*batch_size + j)[0]) / 255.\n",
    "        img = img.flatten()\n",
    "        input[j] = img\n",
    "\n",
    "        # load labels\n",
    "        label = np.array(train_data.__getitem__(i*batch_size + j)[1])\n",
    "        label = label_one_hot_encoding(label)\n",
    "        targets[j] = label\n",
    "\n",
    "    pred = fc.forward(input)\n",
    "    pred = softmax(pred)\n",
    "    loss = mse(targets, pred)\n",
    "    losses.append(loss)\n",
    "\n",
    "    gradients = backward_mse_to_fc(input, targets, pred, fc.weights)\n",
    "    fc.weights -= gradients*lr"
   ]
  },
  {
   "cell_type": "code",
   "execution_count": 26,
   "metadata": {},
   "outputs": [
    {
     "name": "stdout",
     "output_type": "stream",
     "text": [
      "10000\n"
     ]
    }
   ],
   "source": [
    "test_data = MNIST(root=\"./\", train=False, transform=None, target_transform=None, download=True)\n"
   ]
  },
  {
   "cell_type": "code",
   "execution_count": 29,
   "metadata": {},
   "outputs": [
    {
     "name": "stdout",
     "output_type": "stream",
     "text": [
      "0.8358\n"
     ]
    }
   ],
   "source": [
    "num_test_samples = len(test_data)\n",
    "results = []\n",
    "\n",
    "for i in range(10000):\n",
    "    img = np.array(test_data.__getitem__(i)[0]) / 255.\n",
    "    img = img.flatten()\n",
    "    img = np.expand_dims(img, 0)\n",
    "\n",
    "    label = np.array(test_data.__getitem__(i)[1])\n",
    "    label = label_one_hot_encoding(label)\n",
    "    label = np.expand_dims(label, 0)\n",
    "\n",
    "    pred = fc.forward(img)\n",
    "    pred = softmax(pred)\n",
    "\n",
    "    if pred.argmax() == label.argmax():\n",
    "        results.append(1)\n",
    "    else:\n",
    "        results.append(0)\n",
    "\n",
    "print(np.mean(results))"
   ]
  }
 ],
 "metadata": {
  "kernelspec": {
   "display_name": "deepfake",
   "language": "python",
   "name": "python3"
  },
  "language_info": {
   "codemirror_mode": {
    "name": "ipython",
    "version": 3
   },
   "file_extension": ".py",
   "mimetype": "text/x-python",
   "name": "python",
   "nbconvert_exporter": "python",
   "pygments_lexer": "ipython3",
   "version": "3.7.13"
  },
  "orig_nbformat": 4
 },
 "nbformat": 4,
 "nbformat_minor": 2
}
