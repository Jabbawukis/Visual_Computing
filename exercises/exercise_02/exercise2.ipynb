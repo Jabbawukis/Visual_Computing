{
 "cells": [
  {
   "attachments": {},
   "cell_type": "markdown",
   "metadata": {
    "collapsed": false
   },
   "source": [
    "Bearbeitet von: Ali Jaabous [612979], Daniel Christoph [589721]"
   ]
  },
  {
   "cell_type": "code",
   "execution_count": null,
   "id": "9eRCDI4iOdus",
   "metadata": {
    "colab": {
     "base_uri": "https://localhost:8080/"
    },
    "id": "9eRCDI4iOdus",
    "outputId": "45da1f97-7e49-423c-aa49-45b015a35603"
   },
   "outputs": [],
   "source": [
    "%pip install --upgrade plotly\n",
    "%conda install pytorch torchvision cudatoolkit -c pytorch\n",
    "%conda install -c conda-forge ipywidgets\n",
    "%pip install nbformat"
   ]
  },
  {
   "cell_type": "code",
   "execution_count": null,
   "id": "1498e4b9-7b8b-4534-88a1-792d31834c07",
   "metadata": {
    "ExecuteTime": {
     "end_time": "2023-06-09T21:51:25.726947415Z",
     "start_time": "2023-06-09T21:51:23.898782204Z"
    },
    "id": "1498e4b9-7b8b-4534-88a1-792d31834c07"
   },
   "outputs": [],
   "source": [
    "import plotly\n",
    "import plotly.graph_objects as go\n",
    "from plotly.offline import init_notebook_mode, iplot\n",
    "import torch\n",
    "from torch import nn, Tensor\n",
    "from torch.optim import Optimizer\n",
    "from torch.utils.data import DataLoader, Subset, random_split\n",
    "\n",
    "from torchvision import datasets\n",
    "from torchvision.utils import make_grid\n",
    "import torchvision.transforms as T\n",
    "\n",
    "from copy import deepcopy\n",
    "\n",
    "from tqdm.auto import tqdm\n",
    "import numpy as np\n",
    "import pandas as pd\n",
    "\n",
    "from plot_loss import get_loss_grid, plot_contour, plot_surface, plot_losses, get_state_directions\n",
    "from convert_net import get_conv, get_lin\n",
    "from utils import get_batch, plot_examples\n",
    "cuda = torch.device('cuda:2')"
   ]
  },
  {
   "cell_type": "code",
   "execution_count": null,
   "id": "HHKu_Ys8PgRG",
   "metadata": {
    "ExecuteTime": {
     "end_time": "2023-06-09T21:51:25.866825539Z",
     "start_time": "2023-06-09T21:51:25.725719312Z"
    },
    "id": "HHKu_Ys8PgRG"
   },
   "outputs": [],
   "source": [
    "def conf_pltly():\n",
    "    import IPython\n",
    "    display(IPython.core.display.HTML(\"\"\"\n",
    "      <script src=\"/static/components/requirejs/require.js\"></script>\n",
    "      <script>\n",
    "        requirejs.config({\n",
    "          paths: '/static/base',\n",
    "          plotly: 'https://cds.plot.ly/plotly-2.23.2.min.js?noext'\n",
    "        });\n",
    "      </script>\n",
    "    \"\"\"))"
   ]
  },
  {
   "attachments": {},
   "cell_type": "markdown",
   "id": "de03a78e-c2a9-48d0-8b7a-43d2afab9ac4",
   "metadata": {
    "id": "de03a78e-c2a9-48d0-8b7a-43d2afab9ac4"
   },
   "source": [
    "# Optimizing Neural Networks\n",
    "\n",
    "In this exercise, you will learn how to implement optimizers such as Gradient Descent to use in PyTorch. You will evaluate the impact of learning rates and different parameter update strategies. For this you will use the dataset from previous exercise and improve the convergence of a simple classifier."
   ]
  },
  {
   "attachments": {},
   "cell_type": "markdown",
   "id": "049694f6-39f9-4dac-a01c-e2cec60b9a07",
   "metadata": {
    "id": "049694f6-39f9-4dac-a01c-e2cec60b9a07",
    "tags": []
   },
   "source": [
    "## Prepare Dataset\n",
    "\n",
    "We first define useful functions and data loaders. For this, we need a pipeline to convert the data samples into Tensors."
   ]
  },
  {
   "cell_type": "code",
   "execution_count": null,
   "id": "83a7e8d5-0bcf-42de-b0bb-b47ccbfc7c85",
   "metadata": {
    "ExecuteTime": {
     "end_time": "2023-06-09T21:51:30.616948979Z",
     "start_time": "2023-06-09T21:51:30.610430005Z"
    },
    "id": "83a7e8d5-0bcf-42de-b0bb-b47ccbfc7c85"
   },
   "outputs": [],
   "source": [
    "transforms = T.Compose([\n",
    "    T.ToTensor(),\n",
    "    T.Normalize(0.5, 0.5)\n",
    "])"
   ]
  },
  {
   "attachments": {},
   "cell_type": "markdown",
   "id": "23f465fa-a1ae-4163-8750-f57f58e7e79d",
   "metadata": {
    "id": "23f465fa-a1ae-4163-8750-f57f58e7e79d"
   },
   "source": [
    "We then load the data and create a small subset of the dataset to speed up tests of the implemented optimizers. Look at the [pytorch](https://pytorch.org/docs/stable/data.html) documentation and create\n",
    "\n",
    "- a small subset of 50 batches with size 64\n",
    "- two dataloaders that iterate over all samples and batched samples, respectively"
   ]
  },
  {
   "cell_type": "code",
   "execution_count": null,
   "id": "be9957f2-4a20-4e28-9768-321d946082de",
   "metadata": {
    "ExecuteTime": {
     "end_time": "2023-06-09T21:51:33.218207748Z",
     "start_time": "2023-06-09T21:51:33.103460101Z"
    },
    "colab": {
     "base_uri": "https://localhost:8080/"
    },
    "id": "be9957f2-4a20-4e28-9768-321d946082de",
    "outputId": "7f55f289-a896-4862-a695-d8ff5a3f9180"
   },
   "outputs": [],
   "source": [
    "batch_size = 64\n",
    "batches = 50\n",
    "\n",
    "data = datasets.MNIST(root=\"./\", transform=transforms, target_transform=None, download=True)\n",
    "data_subset = Subset(data, torch.arange(batch_size * batches))\n",
    "\n",
    "gd_data_loader = DataLoader(data_subset, batch_size=batch_size, shuffle=True)\n",
    "data_loader = DataLoader(data_subset, batch_size=batch_size*batches, shuffle=True)"
   ]
  },
  {
   "attachments": {},
   "cell_type": "markdown",
   "id": "278e3827-9b6c-4a90-bfdf-9f2ed5016ead",
   "metadata": {
    "id": "278e3827-9b6c-4a90-bfdf-9f2ed5016ead"
   },
   "source": [
    "You can use `plot_examples()` to visualize some examples of the dataset"
   ]
  },
  {
   "cell_type": "code",
   "execution_count": null,
   "id": "e2767f24-10b3-49a9-89c5-b0ed18e5bf5f",
   "metadata": {
    "ExecuteTime": {
     "end_time": "2023-06-09T21:51:36.640058755Z",
     "start_time": "2023-06-09T21:51:36.500802419Z"
    },
    "colab": {
     "base_uri": "https://localhost:8080/",
     "height": 118
    },
    "id": "e2767f24-10b3-49a9-89c5-b0ed18e5bf5f",
    "outputId": "e941b578-e556-4d25-a974-4b5ba9b07579"
   },
   "outputs": [],
   "source": [
    "plot_examples(data_subset)"
   ]
  },
  {
   "attachments": {},
   "cell_type": "markdown",
   "id": "f6a906ce-b06f-4fc3-bb76-6a3c9935f204",
   "metadata": {
    "id": "f6a906ce-b06f-4fc3-bb76-6a3c9935f204"
   },
   "source": [
    "## Optimizer\n",
    "\n",
    "In this section we will compare different optimizer that were introduced to improve the convergence behavior of neural networks. The nice thing about PyTorch is that all gradients are computed automatically when using the implemented backward pass and saved for Tensor `x` in `x.grad`. Therefore, we first implement the network used in previous exercise using the PyTorch implementations of:\n",
    "\n",
    "- nn.Sequential\n",
    "- nn.Flatten\n",
    "- nn.Linear\n",
    "\n",
    "Transfer the net to the GPU before returning it, to use all available compute."
   ]
  },
  {
   "cell_type": "code",
   "execution_count": null,
   "id": "0210adc9-d43f-49df-95ef-3ed62dd6563d",
   "metadata": {
    "ExecuteTime": {
     "end_time": "2023-06-09T21:51:38.821786678Z",
     "start_time": "2023-06-09T21:51:38.690091005Z"
    },
    "id": "0210adc9-d43f-49df-95ef-3ed62dd6563d"
   },
   "outputs": [],
   "source": [
    "def get_OneFCNet():\n",
    "    model = nn.Sequential(\n",
    "          nn.Conv2d(in_channels=1, out_channels=1, kernel_size=3, stride=1, padding=0),\n",
    "          nn.ReLU(),\n",
    "          nn.MaxPool2d(kernel_size=2, stride=2),\n",
    "          nn.Flatten(), # -> outputs vector of shape 1x169 \n",
    "          nn.Linear(169, 10)\n",
    "        ).cuda(cuda)\n",
    "    return model"
   ]
  },
  {
   "attachments": {},
   "cell_type": "markdown",
   "id": "2aeac1fe-6b38-49fd-a802-7633e92637de",
   "metadata": {
    "id": "2aeac1fe-6b38-49fd-a802-7633e92637de"
   },
   "source": [
    "## Gradient Descent\n",
    "\n",
    "Now that we have a network to optimize, let's have a look at the optimizer class of PyTorch. To implement an optimizer, we need to implement the `step()` function to actually update the parameters."
   ]
  },
  {
   "cell_type": "code",
   "execution_count": null,
   "id": "323e8d4b-a29f-444f-bc3a-141edb90f03d",
   "metadata": {
    "ExecuteTime": {
     "end_time": "2023-06-09T21:51:44.294616288Z",
     "start_time": "2023-06-09T21:51:44.219269314Z"
    },
    "id": "323e8d4b-a29f-444f-bc3a-141edb90f03d"
   },
   "outputs": [],
   "source": [
    "class GD(Optimizer):\n",
    "    \n",
    "    def __init__(self, params, lr=0.2) -> None:\n",
    "        super().__init__(params, {'lr': lr})\n",
    "        self.lr = lr\n",
    "    \n",
    "    def step(self):\n",
    "        # do not consider the next steps for gradient calculations\n",
    "        with torch.no_grad():\n",
    "            \n",
    "            # iter over all parameters\n",
    "            for p in self.param_groups[0]['params']:\n",
    "                \n",
    "                # if the gradient is set, update it\n",
    "                if p.grad is not None:\n",
    "                    \n",
    "                    # update parameters\n",
    "                    # hint: in torch each function (e.g. Tensor.add()) has an inplace variant\n",
    "                    # which modifies the tensor inplace: Tensor.add_()\n",
    "                     p.add_(p.grad, alpha=-self.lr)"
   ]
  },
  {
   "attachments": {},
   "cell_type": "markdown",
   "id": "ea7c932b-8487-4a12-8932-497b39c3d1bf",
   "metadata": {
    "id": "ea7c932b-8487-4a12-8932-497b39c3d1bf"
   },
   "source": [
    "Let's define a training step by defining the `loss_fn` globally and implementing a step with the following substeps:\n",
    "\n",
    "- all gradients must be reseted by `optimizer.zero_grad()`\n",
    "- get the result of a forward pass of the network\n",
    "- calculate the loss for this batch\n",
    "- do a backwardpass using `.backward()` on the calculated loss\n",
    "- do an optimizer step"
   ]
  },
  {
   "cell_type": "code",
   "execution_count": null,
   "id": "1f647f68-0df2-418c-8857-eecdb69ba755",
   "metadata": {
    "ExecuteTime": {
     "end_time": "2023-06-09T21:51:47.098926741Z",
     "start_time": "2023-06-09T21:51:47.094943985Z"
    },
    "id": "1f647f68-0df2-418c-8857-eecdb69ba755"
   },
   "outputs": [],
   "source": [
    "def training_step(net: nn.Sequential, optimizer: Optimizer, loss_fn, batch):\n",
    "    img, gt = batch\n",
    "    \n",
    "    # implement training step\n",
    "    optimizer.zero_grad() # zeros gradients from previous step\n",
    "    pred = net.forward(img.cuda(cuda))\n",
    "    loss = loss_fn(pred.cuda(cuda), gt.cuda(cuda))\n",
    "    loss.backward()\n",
    "    optimizer.step()\n",
    "    return loss"
   ]
  },
  {
   "attachments": {},
   "cell_type": "markdown",
   "id": "2ec7f1dc-9892-4719-84e5-51b190b84922",
   "metadata": {
    "id": "2ec7f1dc-9892-4719-84e5-51b190b84922"
   },
   "source": [
    "To do multiple steps, we implement a function `the_loop` that iterates over a dataloader. It should do a training step per batch for `epochs`. After one epoch, the loss on the validation set should be calculated."
   ]
  },
  {
   "cell_type": "code",
   "execution_count": null,
   "id": "455de34d-53b2-4fe2-b303-45396f5136c7",
   "metadata": {
    "ExecuteTime": {
     "end_time": "2023-06-09T21:51:51.475699730Z",
     "start_time": "2023-06-09T21:51:51.431817958Z"
    },
    "id": "455de34d-53b2-4fe2-b303-45396f5136c7"
   },
   "outputs": [],
   "source": [
    "def the_loop(net, optimizer, train_loader, val_loader=None, epochs=None, swa_model=None, swa_start=5):\n",
    "    if epochs is None:\n",
    "        raise Exception(\"a training duration must be given: set epochs\")\n",
    "    \n",
    "    log_iterval = 1\n",
    "    running_mean = 0.\n",
    "    loss = Tensor([0.]).cuda(cuda)\n",
    "\n",
    "    losses = []\n",
    "    val_losses = []\n",
    "    states = []\n",
    "    i, j = 0, 0\n",
    "    \n",
    "    pbar = tqdm(train_loader, desc=f\"epoch {i}\", postfix={\"loss\": loss.item(), \"step\": j})\n",
    "\n",
    "    for i in range(epochs):\n",
    "        running_mean = 0.\n",
    "        j = 0\n",
    "\n",
    "        pbar.set_description(f\"epoch {i}\")\n",
    "        pbar.refresh()\n",
    "        pbar.reset()\n",
    "        for j, batch in enumerate(train_loader):\n",
    "\n",
    "            # implement training step by \n",
    "            # - appending the current states to `states`\n",
    "            # - doing a training_step\n",
    "            # - appending the current loss to the `losses` list\n",
    "            # - update the running_mean for logging\n",
    "\n",
    "            states.append(deepcopy(net.state_dict()))\n",
    "            loss = training_step(net, optimizer, loss_fn, batch)\n",
    "            losses.append(deepcopy(loss.item()))\n",
    "            running_mean += (loss.item() - running_mean) / (j + 1)\n",
    "\n",
    "            if j % log_iterval == 0 and j != 0:\n",
    "                pbar.set_postfix({\"loss\": running_mean, \"step\": j})\n",
    "                running_mean = 0.\n",
    "            pbar.update()\n",
    "        \n",
    "        if i > swa_start and swa_model is not None:\n",
    "            swa_model.update_parameters(net)\n",
    "        \n",
    "        if val_loader is not None:\n",
    "            \n",
    "            # evaluate the current net on the validation data loader and\n",
    "            # collect all losses in the ´val_loss´ list\n",
    "            net.eval()\n",
    "            total_loss = 0.0\n",
    "            total_samples = 0\n",
    "            with torch.no_grad():\n",
    "                for batch in val_loader:\n",
    "                    img, gt = batch\n",
    "                    pred = net.forward(img.cuda(cuda))\n",
    "                    loss = loss_fn(pred.cuda(cuda), gt.cuda(cuda))\n",
    "                    total_loss += loss.item() * img.size(0)\n",
    "                    total_samples += img.size(0)\n",
    "\n",
    "                    avg_loss = total_loss / total_samples\n",
    "                val_losses.append(avg_loss)\n",
    "            net.train()\n",
    "\n",
    "    pbar.refresh()\n",
    "    \n",
    "    if val_loader is not None:\n",
    "        return losses, states, val_losses\n",
    "    \n",
    "    return losses, states"
   ]
  },
  {
   "attachments": {},
   "cell_type": "markdown",
   "id": "c8726d5a-df13-4405-bb99-afdb4de6481a",
   "metadata": {
    "id": "c8726d5a-df13-4405-bb99-afdb4de6481a"
   },
   "source": [
    "Now train a OneFCNet using your Gradient Descent optimizer, the data loader which iterates over all samples in one batch with a Cross Entropy loss (hint: there is an implementation of PyTorch for this loss). For testing the optimizers we are not yet interested in the validation loss. So no need to provide a validation loader."
   ]
  },
  {
   "cell_type": "code",
   "execution_count": null,
   "id": "69f33556-a226-4870-b580-b5bd59fa5fce",
   "metadata": {
    "ExecuteTime": {
     "start_time": "2023-06-08T11:44:48.716417786Z"
    },
    "colab": {
     "base_uri": "https://localhost:8080/",
     "height": 574,
     "referenced_widgets": [
      "5625c95aac5b4d6f86996bfa3f0b087f",
      "92613cc122ce4f6b8869ddf6d3e1df80",
      "cc5fb9157a7241f1a1481ab79568ae2a",
      "33d79cf3a3ca4299b348da4121bb802b",
      "4f4bf253a8ed4a1caf66c5ac8e424cfb",
      "19030a03878e465eab99459800186c3c",
      "2587459e0d3f498791118fa7ee6f4331",
      "7e7087b94ab145e796f31e5ed7ba0702",
      "3fa4b2c235d049c78ab8fb281ff7db50",
      "a20352c67cc543048fbcb5f35064fab0",
      "3b73a984d4fa480880d21d1d637e7161"
     ]
    },
    "id": "69f33556-a226-4870-b580-b5bd59fa5fce",
    "is_executing": true,
    "outputId": "416efb93-5f44-4f2c-9882-89e68863567a"
   },
   "outputs": [],
   "source": [
    "net = get_OneFCNet()\n",
    "epochs = 10\n",
    "optimizer = GD(net.parameters(), 0.002)\n",
    "loss_fn = torch.nn.CrossEntropyLoss()\n",
    "\n",
    "losses, states = the_loop(net=net,\n",
    "                          optimizer=optimizer,\n",
    "                          train_loader=data_loader,\n",
    "                          epochs=epochs)\n",
    "\n",
    "fig = plot_losses(losses)\n",
    "iplot(fig)"
   ]
  },
  {
   "attachments": {},
   "cell_type": "markdown",
   "id": "4150cb8c-58f5-4742-83d5-89794a447ce4",
   "metadata": {
    "id": "4150cb8c-58f5-4742-83d5-89794a447ce4"
   },
   "source": [
    "We can now use a method to plot the loss surface of the network by projecting the parameter updates into two dimensions. You can find more information on that [here](https://proceedings.neurips.cc/paper_files/paper/2018/hash/a41b3bb3e6b050b6c9067c67f663b915-Abstract.html). But you can just use the provided code. The contour plot will show how the loss will change if you would follow the two main directions of the past parameter updates.\n",
    "\n",
    "Think about the challenges and the optimization process of this landscape. What could impede the convergence of the net?"
   ]
  },
  {
   "attachments": {},
   "cell_type": "markdown",
   "id": "ebde330f",
   "metadata": {},
   "source": [
    "* Getting stuck in a local minimum\n",
    "* Insufficient training data or insufficient training (not enough samples or batches etc.)\n",
    "* Improper data preprocessing\n",
    "* Inappropriate network architecture -> bad architecture can lead to bad convergence e.g. too shallow"
   ]
  },
  {
   "cell_type": "code",
   "execution_count": null,
   "id": "58b2b3c5-1db5-4d2c-b992-acf354ca908b",
   "metadata": {
    "colab": {
     "base_uri": "https://localhost:8080/",
     "height": 501,
     "referenced_widgets": [
      "0d07ea9b69ba4fb5a0f8b1940ad2d1c2",
      "9d9b3f835d5a4083993317bc35913d25",
      "c50cbc31e84f4b0ca3837b2ef5b698b7",
      "df284a6a0b4f4cea9d4572e0fa510d5c",
      "642d34178d844643aae5feac342d99e0",
      "be6cd6f7cff84ed49b3ac9f1ab49bb73",
      "5db85e614e24496aa43a7a2faf08660e",
      "336fc229c897449ca9295a3550aaa69b",
      "c7269676487043818f7621167dd36f0b",
      "74ebdd7b634e41059d35ab0cd240cfbd",
      "8f2e8f880866484eb014022c911fdbe8"
     ]
    },
    "id": "58b2b3c5-1db5-4d2c-b992-acf354ca908b",
    "outputId": "45e97eae-0dd8-4606-bc75-a22b09c50cd4"
   },
   "outputs": [],
   "source": [
    "# project states onto the main directions of the gradient updates using n samples over all steps starting from sample x\n",
    "# the directions are calculated using the last sample as a reference\n",
    "directions, state_ids, loss_coordinates = get_state_directions(states, n_states=10, start_from=0, reference_id=-1)\n",
    "# compute the losses over the main directions of the gradient updates\n",
    "x, y, Z, _ = get_loss_grid(net, data_loader, loss_fn, directions=directions, resolution=(20, 20), scale=loss_coordinates.abs().max().item())\n",
    "\n",
    "# plot the landscape as a contour plot\n",
    "fig = plot_contour(np.copy(x), np.copy(y), np.copy(Z), scale=True)\n",
    "fig.add_traces(go.Scatter(x=np.copy(loss_coordinates[0].cpu().numpy()),\n",
    "                          y=np.copy(loss_coordinates[1].cpu().numpy())))\n",
    "\n",
    "print('loss samples:', np.array(losses)[state_ids])\n",
    "\n",
    "conf_pltly()\n",
    "init_notebook_mode(connected=False)\n",
    "iplot(fig)"
   ]
  },
  {
   "attachments": {},
   "cell_type": "markdown",
   "id": "44a5d4ee-a031-4cc0-8d81-9aed5fc7f002",
   "metadata": {
    "id": "44a5d4ee-a031-4cc0-8d81-9aed5fc7f002"
   },
   "source": [
    "### Garment Classifier\n",
    "\n",
    "Below there is a net given, that start to use convolutions to consider the advantages of the spatial structure of images. Test the gradient descent method on this net and compare it.\n"
   ]
  },
  {
   "cell_type": "code",
   "execution_count": null,
   "id": "9527ac35-d358-42f8-b2f5-645cbb7bacbd",
   "metadata": {
    "ExecuteTime": {
     "end_time": "2023-06-09T21:51:59.891934837Z",
     "start_time": "2023-06-09T21:51:59.872461402Z"
    },
    "id": "9527ac35-d358-42f8-b2f5-645cbb7bacbd"
   },
   "outputs": [],
   "source": [
    "def get_GarmentClassifier():\n",
    "    return nn.Sequential(\n",
    "            nn.Conv2d(1, 6, kernel_size=5),\n",
    "            nn.ReLU(),\n",
    "            nn.MaxPool2d(2,2),\n",
    "            nn.Conv2d(6, 16, kernel_size=5),\n",
    "            nn.ReLU(),\n",
    "            nn.MaxPool2d(2,2),\n",
    "            nn.Flatten(),\n",
    "            nn.Linear(16 * 4 * 4, 120),\n",
    "            nn.ReLU(),\n",
    "            nn.Linear(120, 84),\n",
    "            nn.ReLU(),\n",
    "            nn.Linear(84, 10)\n",
    "        ).cuda(cuda)"
   ]
  },
  {
   "cell_type": "code",
   "execution_count": null,
   "id": "a50202af-d62a-43d4-91e6-12d4d1ae9dc3",
   "metadata": {
    "colab": {
     "base_uri": "https://localhost:8080/",
     "height": 395,
     "referenced_widgets": [
      "f4a772b945ab4f02a9dba8399fac594e",
      "3da0d7b7f3c341ff8f2e7d5d662708c0",
      "5741d015f6634efc9bb2965f23a0aa36",
      "3df392b10bdd422ebe9f61da8bcf3a30",
      "2c8f11fb56f44b6dba9e755cf7c80d56",
      "43282a7eb65b4aa48f794a012887fbdf",
      "3535d6a6c2b446c78d0c59b8f3d04ab0",
      "5703904c21e349bf8aa107809b99a2e2",
      "5b1f1527d0a84cd89f9aa63d94065693",
      "10df8b95f68a4a56a2bd82b667410e22",
      "3ad97a4040094849b526e4bb2164ddf8"
     ]
    },
    "id": "a50202af-d62a-43d4-91e6-12d4d1ae9dc3",
    "outputId": "9ac6a62d-7bd2-48b7-e86b-e617715540b1"
   },
   "outputs": [],
   "source": [
    "net = get_GarmentClassifier()\n",
    "epochs = 10\n",
    "optimizer = GD(net.parameters(), 0.02)\n",
    "loss_fn = torch.nn.CrossEntropyLoss()\n",
    "losses, states = the_loop(net=net,\n",
    "                          optimizer=optimizer,\n",
    "                          train_loader=data_loader,\n",
    "                          epochs=epochs)\n",
    "\n",
    "fig = plot_losses(losses)\n",
    "conf_pltly()\n",
    "init_notebook_mode(connected=False)\n",
    "iplot(fig)"
   ]
  },
  {
   "cell_type": "code",
   "execution_count": null,
   "id": "27f73f16-2685-468d-8d6e-082062db45cf",
   "metadata": {
    "id": "27f73f16-2685-468d-8d6e-082062db45cf"
   },
   "outputs": [],
   "source": [
    "# project states onto the main directions of the gradient updates using n samples over all steps starting from sample x\n",
    "# the directions are calculated using the last sample as a reference\n",
    "directions, state_ids, loss_coordinates = get_state_directions(states, n_states=10, start_from=0, reference_id=-1)\n",
    "\n",
    "# compute the losses over the main directions of the gradient updates\n",
    "x, y, Z, _ = get_loss_grid(net, data_loader, loss_fn, directions=directions, resolution=(20, 20), scale=loss_coordinates.abs().max().item())\n",
    "\n",
    "# plot the landscape as a contour plot\n",
    "fig = plot_contour(np.copy(x), np.copy(y), np.copy(Z), scale=True)\n",
    "fig.add_traces(go.Scatter(x=np.copy(loss_coordinates[0].cpu().numpy()),\n",
    "                          y=np.copy(loss_coordinates[1].cpu().numpy())))\n",
    "\n",
    "print('loss samples:', np.array(losses)[state_ids])\n",
    "\n",
    "conf_pltly()\n",
    "init_notebook_mode(connected=False)\n",
    "iplot(fig)"
   ]
  },
  {
   "attachments": {},
   "cell_type": "markdown",
   "id": "e802c14d-5a45-46ba-9c60-b4e738ca2c05",
   "metadata": {
    "id": "e802c14d-5a45-46ba-9c60-b4e738ca2c05"
   },
   "source": [
    "What are the differences of the contour plots and convergence behaviors?"
   ]
  },
  {
   "attachments": {},
   "cell_type": "markdown",
   "id": "b9a807ee",
   "metadata": {},
   "source": [
    "* Model two has a lower loss\n",
    "* Model two has a better convergence"
   ]
  },
  {
   "attachments": {},
   "cell_type": "markdown",
   "id": "c7570963-a5e9-4068-a925-833327c6884c",
   "metadata": {
    "id": "c7570963-a5e9-4068-a925-833327c6884c"
   },
   "source": [
    "## Stochastic Gradient Descent\n",
    "\n",
    "For Gradient Descent, we calculated the gradients for each sample individually. To improve the convergence behavior and to speed up the training process, we now consider batches of gradients. This stabilizes the convergence and prevents the parameters from being push in one direction and directly afterwards being pulled in the opposite direction. Therefore, we can use the gradient descent implementation and just swap the data loader to use the batched variant. The bad thing is that we need to iterate now multiple times over the dataset.\n",
    "\n",
    "Is there any difference?"
   ]
  },
  {
   "attachments": {},
   "cell_type": "markdown",
   "id": "eefc1403",
   "metadata": {},
   "source": [
    "* way faster convergence\n",
    "* path of convergence seems to be more rugged or less smooth\n",
    "* loss becomes more stable"
   ]
  },
  {
   "cell_type": "code",
   "execution_count": null,
   "id": "a7181df4-1e07-4072-8b55-9f7d6012e09c",
   "metadata": {
    "id": "a7181df4-1e07-4072-8b55-9f7d6012e09c"
   },
   "outputs": [],
   "source": [
    "net = get_GarmentClassifier()\n",
    "epochs = 10\n",
    "optimizer = GD(net.parameters(), 0.02)\n",
    "loss_fn = torch.nn.CrossEntropyLoss()\n",
    "losses, states = the_loop(net=net,\n",
    "                          optimizer=optimizer,\n",
    "                          train_loader=gd_data_loader,\n",
    "                          epochs=epochs)\n",
    "\n",
    "fig = plot_losses(losses)\n",
    "conf_pltly()\n",
    "init_notebook_mode(connected=False)\n",
    "iplot(fig)"
   ]
  },
  {
   "cell_type": "code",
   "execution_count": null,
   "id": "05de6d75-ca1f-4fea-a4cb-28b4acd370b0",
   "metadata": {
    "id": "05de6d75-ca1f-4fea-a4cb-28b4acd370b0"
   },
   "outputs": [],
   "source": [
    "# project states onto the main directions of the gradient updates using n samples over all steps starting from sample x\n",
    "# the directions are calculated using the last sample as a reference\n",
    "directions, state_ids, loss_coordinates = get_state_directions(states, n_states=10, start_from=400, reference_id=-1)\n",
    "\n",
    "# compute the losses over the main directions of the gradient updates\n",
    "x, y, Z, _ = get_loss_grid(net, data_loader, loss_fn, directions=directions, resolution=(20, 20), scale=loss_coordinates.abs().max().item())\n",
    "\n",
    "# plot the landscape as a contour plot\n",
    "fig = plot_contour(np.copy(x), np.copy(y), np.copy(Z), scale=True)\n",
    "fig.add_traces(go.Scatter(x=np.copy(loss_coordinates[0].cpu().numpy()),\n",
    "                          y=np.copy(loss_coordinates[1].cpu().numpy())))\n",
    "\n",
    "print('loss samples:', np.array(losses)[state_ids])\n",
    "\n",
    "conf_pltly()\n",
    "init_notebook_mode(connected=False)\n",
    "iplot(fig)"
   ]
  },
  {
   "attachments": {},
   "cell_type": "markdown",
   "id": "ZnXyq2jaQ_ss",
   "metadata": {
    "collapsed": false,
    "id": "ZnXyq2jaQ_ss"
   },
   "source": [
    "### Stochastic Gradient Descent with Momentum\n",
    "\n",
    "A next improvement to our optimizer is inspired by the physical momentum. A typical problem for gradient descent in complex optimization functions is, that one could end in a local minima. Therefore, we not only consider the current gradient but also the last update weighted by a momentum factor:\n",
    "\n",
    "$$ v = \\eta \\cdot ( -\\frac{\\partial L(\\theta)}{\\partial \\theta} ) + v^\\text{old} \\cdot mtm $$\n",
    "\n",
    "with $\\eta$ being the learning rate, $\\theta$ denoting the network parameters and $L(\\theta)$ being the current loss of with the current set of parameters. The update is given by:\n",
    "\n",
    "$$ \\theta = \\theta + v $$\n",
    "\n",
    "Now use the implementation of Stochastic Gradient Descent and add momentum to it. Again, train a network and see if you can spot any differences to the previous optimization."
   ]
  },
  {
   "cell_type": "code",
   "execution_count": null,
   "id": "3bb34d63-4377-4164-96da-694823b8d646",
   "metadata": {
    "id": "3bb34d63-4377-4164-96da-694823b8d646"
   },
   "outputs": [],
   "source": [
    "class SGDwM(Optimizer):\n",
    "    def __init__(self, params, lr=0.2, momentum=0.9):\n",
    "        super().__init__(params, {'lr': lr})\n",
    "        self.lr = lr\n",
    "        self.momentum = momentum\n",
    "        self.velocities = []\n",
    "    \n",
    "    def step(self):\n",
    "        with torch.no_grad():\n",
    "            for i, p in enumerate(self.param_groups[0]['params']):\n",
    "                if p.grad is None:\n",
    "                    continue\n",
    "                if i >= len(self.velocities):\n",
    "                    self.velocities.append(torch.zeros_like(p))\n",
    "                velocity_new = self.lr * (-p.grad) + self.velocities[i] * self.momentum\n",
    "                p.add_(velocity_new)\n",
    "                self.velocities[i] = velocity_new.clone()"
   ]
  },
  {
   "cell_type": "code",
   "execution_count": null,
   "id": "5b8fdd15-da1a-4755-b0b3-a2ab025cfdd7",
   "metadata": {
    "colab": {
     "base_uri": "https://localhost:8080/",
     "height": 429,
     "referenced_widgets": [
      "538c7999a3cb4a8a8e50c034a7dc4850",
      "f844f07dabfb43f1be2e16951ac388ee",
      "bf31742fbcc140a0b050c3a2381ba1be",
      "062ca678830a4d84bd54bba747597306",
      "0f1b8d43fe884cf093310f3334860aa8",
      "71ec931318e847efa5ccc7085d914935",
      "8e99079955e041bea199c3f39974f401",
      "57fbae6c4000458c8bc79cfb456bb537",
      "89c70dfe7d5047f68271044e1fab6873",
      "572787ca76914ecba1d9f9227a3f6ea5",
      "d06cc6e9d4a74ff389afceb47ec47a48"
     ]
    },
    "id": "5b8fdd15-da1a-4755-b0b3-a2ab025cfdd7",
    "outputId": "dcbec842-cf49-4da4-8b9f-4b16e3e46d44"
   },
   "outputs": [],
   "source": [
    "net = get_GarmentClassifier()\n",
    "epochs = 10\n",
    "optimizer = SGDwM(net.parameters(), 0.02)\n",
    "loss_fn = torch.nn.CrossEntropyLoss()\n",
    "losses, states = the_loop(net, optimizer, gd_data_loader, epochs=epochs)\n",
    "\n",
    "fig = plot_losses(losses)\n",
    "conf_pltly()\n",
    "init_notebook_mode(connected=False)\n",
    "iplot(fig)"
   ]
  },
  {
   "attachments": {},
   "cell_type": "markdown",
   "id": "f60627f7",
   "metadata": {},
   "source": [
    "* loss drops of way earlier in the training\n",
    "* less \"hills\" in the loss graph which may indicate a more stable training/convergence"
   ]
  },
  {
   "cell_type": "code",
   "execution_count": null,
   "id": "b5ebb9a3-8760-4aa5-83f0-fd2b6c2872bf",
   "metadata": {
    "id": "b5ebb9a3-8760-4aa5-83f0-fd2b6c2872bf"
   },
   "outputs": [],
   "source": [
    "# project states onto the main directions of the gradient updates using n samples over all steps starting from sample x\n",
    "# the directions are calculated using the last sample as a reference\n",
    "directions, state_ids, loss_coordinates = get_state_directions(states, n_states=10, start_from=400, reference_id=-1)\n",
    "\n",
    "# compute the losses over the main directions of the gradient updates\n",
    "x, y, Z, _ = get_loss_grid(net, data_loader, loss_fn, directions=directions, resolution=(20, 20), scale=loss_coordinates.abs().max().item())\n",
    "\n",
    "# plot the landscape as a contour plot\n",
    "fig = plot_contour(np.copy(x), np.copy(y), np.copy(Z), scale=True)\n",
    "fig.add_traces(go.Scatter(x=np.copy(loss_coordinates[0].cpu().numpy()),\n",
    "                          y=np.copy(loss_coordinates[1].cpu().numpy())))\n",
    "\n",
    "print('loss samples:', np.array(losses)[state_ids])\n",
    "\n",
    "conf_pltly()\n",
    "init_notebook_mode(connected=False)\n",
    "iplot(fig)"
   ]
  },
  {
   "attachments": {},
   "cell_type": "markdown",
   "id": "ebfdd0c3",
   "metadata": {},
   "source": [
    "* the gradient descent using momentum takes into account the history of parameter updates to determine the current update direction"
   ]
  },
  {
   "attachments": {},
   "cell_type": "markdown",
   "id": "9fb7231c-1109-4216-9d02-e845d09421e6",
   "metadata": {
    "id": "9fb7231c-1109-4216-9d02-e845d09421e6"
   },
   "source": [
    "### Nesterov Accelerated Gradient Descent\n",
    "\n",
    "A variant of Stochastic Gradient Descent also considers the penultimate update to include more statistics for optimization:\n",
    "\n",
    "$$ \\tilde{\\theta} = \\theta + v^\\text{old} \\cdot mtm $$\n",
    "$$ v = v^\\text{old} \\cdot mtm + \\eta \\cdot (-\\frac{\\partial L(\\tilde{\\theta})}{\\partial \\theta}) $$\n",
    "$$ \\theta = \\tilde{\\theta} $$\n",
    "\n",
    "Are there differences to previous methods and why do they exists?"
   ]
  },
  {
   "attachments": {},
   "cell_type": "markdown",
   "id": "795bcbdc",
   "metadata": {},
   "source": [
    "* NAGD updates the velocity vector by combining the previous velocity and the momentum factor, multiplied by the gradient computed at the lookahead position\n",
    "* thus, it points slightly ahead in the direction of the previous velocity"
   ]
  },
  {
   "cell_type": "code",
   "execution_count": null,
   "id": "a439125c-5a1e-4ed1-9d13-637fb11f8e4f",
   "metadata": {
    "id": "a439125c-5a1e-4ed1-9d13-637fb11f8e4f"
   },
   "outputs": [],
   "source": [
    "class NAGD(Optimizer):\n",
    "    \n",
    "    def __init__(self, params, lr=0.2, momentum=0.9) -> None:\n",
    "        super().__init__(params, {'lr': lr, 'momentum': momentum})\n",
    "        self.lr = lr\n",
    "        self.momentum = momentum\n",
    "        # maybe you need some more code here\n",
    "        self.velocities = []\n",
    "    \n",
    "    def step(self):\n",
    "        with torch.no_grad():\n",
    "            for i, p in enumerate(self.param_groups[0]['params']):\n",
    "                if p.grad is not None:\n",
    "                  if len(self.velocities) <= i:\n",
    "                    self.velocities.append(torch.zeros_like(p))\n",
    "                  \n",
    "                  intermediate_param = p.clone() + self.velocities[i] * self.momentum\n",
    "                  velocity_new = self.velocities[i] * self.momentum + -self.lr * p.grad\n",
    "                  p.copy_(intermediate_param)\n",
    "                  self.velocities[i] = velocity_new.clone()\n"
   ]
  },
  {
   "cell_type": "code",
   "execution_count": null,
   "id": "bb6d92ba-ad5e-437f-970e-68604602a796",
   "metadata": {
    "id": "bb6d92ba-ad5e-437f-970e-68604602a796"
   },
   "outputs": [],
   "source": [
    "net = get_GarmentClassifier()\n",
    "epochs = 10\n",
    "optimizer = NAGD(net.parameters(), 0.02)\n",
    "\n",
    "losses, states = the_loop(net, optimizer, gd_data_loader, epochs=epochs)\n",
    "\n",
    "fig = plot_losses(losses)\n",
    "conf_pltly()\n",
    "init_notebook_mode(connected=False)\n",
    "iplot(fig)"
   ]
  },
  {
   "cell_type": "code",
   "execution_count": null,
   "id": "296584fd-cac0-40e4-915b-fc4a7863bca0",
   "metadata": {
    "id": "296584fd-cac0-40e4-915b-fc4a7863bca0"
   },
   "outputs": [],
   "source": [
    "# project states onto the main directions of the gradient updates using n samples over all steps starting from sample x\n",
    "# the directions are calculated using the last sample as a reference\n",
    "directions, state_ids, loss_coordinates = get_state_directions(states, n_states=10, start_from=400, reference_id=-1)\n",
    "\n",
    "# compute the losses over the main directions of the gradient updates\n",
    "x, y, Z, _ = get_loss_grid(net, data_loader, loss_fn, directions=directions, resolution=(20, 20), scale=1)\n",
    "\n",
    "# plot the landscape as a contour plot\n",
    "fig = plot_contour(np.copy(x), np.copy(y), np.copy(Z), scale=True)\n",
    "fig.add_traces(go.Scatter(x=np.copy(loss_coordinates[0].cpu().numpy()),\n",
    "                          y=np.copy(loss_coordinates[1].cpu().numpy())))\n",
    "\n",
    "print('loss samples:', np.array(losses)[state_ids])\n",
    "\n",
    "conf_pltly()\n",
    "init_notebook_mode(connected=False)\n",
    "iplot(fig)"
   ]
  },
  {
   "attachments": {},
   "cell_type": "markdown",
   "id": "2b7c5408",
   "metadata": {},
   "source": [
    "* NAGD should make smaller oscillations"
   ]
  },
  {
   "attachments": {},
   "cell_type": "markdown",
   "id": "71cc382c-8ddb-4ba6-aa83-96cf21679028",
   "metadata": {
    "id": "71cc382c-8ddb-4ba6-aa83-96cf21679028"
   },
   "source": [
    "### Learning Rate Decay\n",
    "\n",
    "Let's apply a last idea. What about adjusting the learning rate for each update so that later updates have less impact and therefore prevent oscillations around the optimum. Use the implementation of SGD with momentum as a starting point and adjust the learning rate for each step $t$ by a decay factor $d$:\n",
    "\n",
    "$$ \\eta_t = \\frac{\\eta_0}{1 + d \\cdot t} $$\n",
    "\n",
    "Which decay factor works the best?"
   ]
  },
  {
   "attachments": {},
   "cell_type": "markdown",
   "id": "d85dedca",
   "metadata": {},
   "source": [
    "* lr_d of 0.1 seems too large -> high loss overall\n",
    "* lr_d of 0.01 seems good -> low loss\n",
    "* lr_d of 0.001 seems even better -> very low loss 3.55e-5 and good convergence"
   ]
  },
  {
   "cell_type": "code",
   "execution_count": null,
   "id": "f708f2a8-5b0a-4eee-8a90-e23c32e0f6a7",
   "metadata": {
    "id": "f708f2a8-5b0a-4eee-8a90-e23c32e0f6a7"
   },
   "outputs": [],
   "source": [
    "class SGDwMLD(Optimizer):\n",
    "    \n",
    "    def __init__(self, params, lr=0.2, momentum=0.9, decay=0.01) -> None:\n",
    "        super().__init__(params, {'lr': lr, 'momentum': momentum, 'decay': decay})\n",
    "        self.lr = lr\n",
    "        self.momentum = momentum\n",
    "        self.decay = decay\n",
    "        self.t = 0\n",
    "        self.velocities = []\n",
    "    \n",
    "    def step(self):\n",
    "        with torch.no_grad():\n",
    "            self.t += 1\n",
    "            for i, p in enumerate(self.param_groups[0]['params']):\n",
    "                if p.grad is not None:\n",
    "                    if len(self.velocities) <= i:\n",
    "                      self.velocities.append(torch.zeros_like(p))\n",
    "                      \n",
    "                    lr_t = self.lr / (1 + self.decay * self.t)\n",
    "                    velocity_new = lr_t * (-p.grad) + self.velocities[i] * self.momentum\n",
    "                    p.add_(velocity_new)\n",
    "                    self.velocities[i] = velocity_new.clone()\n"
   ]
  },
  {
   "cell_type": "code",
   "execution_count": null,
   "id": "a2c6c8d5-6b26-4895-a9d9-f527ae564d7f",
   "metadata": {
    "id": "a2c6c8d5-6b26-4895-a9d9-f527ae564d7f"
   },
   "outputs": [],
   "source": [
    "net = get_GarmentClassifier()\n",
    "epochs = 20\n",
    "lr_d = 0.001\n",
    "optimizer = SGDwMLD(net.parameters(), 0.02, 0.9, lr_d)\n",
    "loss_fn = torch.nn.CrossEntropyLoss()\n",
    "losses, states = the_loop(net, optimizer, gd_data_loader, epochs=epochs)\n",
    "\n",
    "fig = plot_losses(losses)\n",
    "conf_pltly()\n",
    "init_notebook_mode(connected=False)\n",
    "iplot(fig)"
   ]
  },
  {
   "cell_type": "code",
   "execution_count": null,
   "id": "3a9b6a42-c400-4bff-8316-a819d8b71f76",
   "metadata": {
    "id": "3a9b6a42-c400-4bff-8316-a819d8b71f76"
   },
   "outputs": [],
   "source": [
    "# project states onto the main directions of the gradient updates using n samples over all steps starting from sample x\n",
    "# the directions are calculated using the last sample as a reference\n",
    "directions, state_ids, loss_coordinates = get_state_directions(states, n_states=10, start_from=800, reference_id=-1)\n",
    "\n",
    "# compute the losses over the main directions of the gradient updates\n",
    "x, y, Z, _ = get_loss_grid(net, data_loader, loss_fn, directions=directions, resolution=(20, 20), scale=1)\n",
    "\n",
    "# plot the landscape as a contour plot\n",
    "fig = plot_contour(np.copy(x), np.copy(y), np.copy(Z), scale=True)\n",
    "fig.add_traces(go.Scatter(x=np.copy(loss_coordinates[0].cpu().numpy()),\n",
    "                          y=np.copy(loss_coordinates[1].cpu().numpy())))\n",
    "\n",
    "print('loss samples:', np.array(losses)[state_ids])\n",
    "\n",
    "conf_pltly()\n",
    "init_notebook_mode(connected=False)\n",
    "iplot(fig)"
   ]
  },
  {
   "attachments": {},
   "cell_type": "markdown",
   "id": "de45e976-b4d0-4da7-b93a-700748ea0543",
   "metadata": {
    "id": "de45e976-b4d0-4da7-b93a-700748ea0543"
   },
   "source": [
    "## Adaptive Learning Rates\n",
    "\n",
    "### Adaptive Gradient (AdaGrad)\n",
    "\n",
    "Taking the learning rate decay a step further, we take the past gradients into account and with this adjust the learning rate influence:\n",
    "\n",
    "$$ g_t = \\frac{\\partial L(\\theta_t)}{\\partial \\theta} $$\n",
    "$$ V_t = \\sqrt{\\sum_{i=1}^t (g_i)^2} + \\epsilon $$\n",
    "$$ \\theta_{t+1} = \\theta_t - \\eta \\frac{g_t}{V_t} $$\n",
    "\n",
    "- How does the AdaGrad perform compared to the Learning Rate Decay?\n",
    "- What could be a disadvantage of these update rules?"
   ]
  },
  {
   "attachments": {},
   "cell_type": "markdown",
   "id": "9d2488b5",
   "metadata": {},
   "source": [
    "* AdaGrad adapts the learning rate based on the previous gradients of each parameter individually\n",
    "* Learning rate decay applies a global reduction of the learning rate\n",
    "* AdaGrad accumulates squared gradients. This increases the denominator of the update rule monotonically -> the learning rate can become too small in later stages of training\n",
    "\n",
    "* Learning rate decay relies on a predefined scheme for reducing the learning rate -> can lead to bad convergence igf chosen badly"
   ]
  },
  {
   "cell_type": "code",
   "execution_count": null,
   "id": "fa6008ce-e52d-4aa7-9f9f-199582d70580",
   "metadata": {
    "id": "fa6008ce-e52d-4aa7-9f9f-199582d70580"
   },
   "outputs": [],
   "source": [
    "class AdaGrad(Optimizer):\n",
    "    def __init__(self, params, lr=0.01, eps=1e-10) -> None:\n",
    "        super().__init__(params, {'lr': lr})\n",
    "        self.lr = lr\n",
    "        self.eps = eps\n",
    "        self.sum_of_squared_gradients = []\n",
    "\n",
    "    def step(self):\n",
    "        with torch.no_grad():\n",
    "            for i, p in enumerate(self.param_groups[0]['params']):\n",
    "                if p.grad is not None:\n",
    "                    if len(self.sum_of_squared_gradients) <= i:\n",
    "                        self.sum_of_squared_gradients.append(torch.zeros_like(p))\n",
    "\n",
    "                    squared_grad = p.grad ** 2\n",
    "                    self.sum_of_squared_gradients[i] += squared_grad\n",
    "\n",
    "                    root_sum_squared_grad = torch.sqrt(self.sum_of_squared_gradients[i]) + self.eps\n",
    "\n",
    "                    p.add_(-self.lr * (p.grad / root_sum_squared_grad))\n"
   ]
  },
  {
   "cell_type": "code",
   "execution_count": null,
   "id": "5cf71e28-0e8c-4123-9a54-bbf66529646a",
   "metadata": {
    "id": "5cf71e28-0e8c-4123-9a54-bbf66529646a"
   },
   "outputs": [],
   "source": [
    "net = get_GarmentClassifier()\n",
    "epochs = 20\n",
    "optimizer = AdaGrad(net.parameters())\n",
    "loss_fn = torch.nn.CrossEntropyLoss()\n",
    "losses, states = the_loop(net, optimizer, gd_data_loader, epochs=epochs)\n",
    "\n",
    "fig = plot_losses(losses)\n",
    "conf_pltly()\n",
    "init_notebook_mode(connected=False)\n",
    "iplot(fig)"
   ]
  },
  {
   "cell_type": "code",
   "execution_count": null,
   "id": "5d810d6c-7963-49f2-a5cd-0e3aa179b285",
   "metadata": {
    "id": "5d810d6c-7963-49f2-a5cd-0e3aa179b285"
   },
   "outputs": [],
   "source": [
    "# project states onto the main directions of the gradient updates using n samples over all steps starting from sample x\n",
    "# the directions are calculated using the last sample as a reference\n",
    "directions, state_ids, loss_coordinates = get_state_directions(states, n_states=10, start_from=900, reference_id=-1)\n",
    "\n",
    "# compute the losses over the main directions of the gradient updates\n",
    "x, y, Z, _ = get_loss_grid(net, data_loader, loss_fn, directions=directions, resolution=(20, 20), scale=loss_coordinates.abs().max().item())\n",
    "\n",
    "# plot the landscape as a contour plot\n",
    "fig = plot_contour(np.copy(x), np.copy(y), np.copy(Z), scale=True)\n",
    "fig.add_traces(go.Scatter(x=np.copy(loss_coordinates[0].cpu().numpy()),\n",
    "                          y=np.copy(loss_coordinates[1].cpu().numpy())))\n",
    "\n",
    "print('loss samples:', np.array(losses)[state_ids])\n",
    "\n",
    "conf_pltly()\n",
    "init_notebook_mode(connected=False)\n",
    "iplot(fig)"
   ]
  },
  {
   "attachments": {},
   "cell_type": "markdown",
   "id": "fff6e5cb-9a3d-4f82-9be5-73da6589e4c7",
   "metadata": {
    "id": "fff6e5cb-9a3d-4f82-9be5-73da6589e4c7"
   },
   "source": [
    "### RMSProb\n",
    "\n",
    "RMSProb improves AdaGrad by using a second-order cumulative momentum using a decay factor $\\beta$:\n",
    "\n",
    "$$ V_t = \\sqrt{\\beta V_{t-1} + (1-\\beta)(g_t)^2} + \\epsilon $$\n",
    "\n",
    "- What is the benifit of this update rule compared to the $V_t$ of AdaGrad?"
   ]
  },
  {
   "attachments": {},
   "cell_type": "markdown",
   "id": "9da3683f",
   "metadata": {},
   "source": [
    "* Due to the decay factor, RMSProp gives less weight to past squared gradients -> results in a more balanced and adaptive learning rate adjustment"
   ]
  },
  {
   "cell_type": "code",
   "execution_count": null,
   "id": "369bf4f2-c433-49ec-bd54-3f91fbcb914c",
   "metadata": {
    "id": "369bf4f2-c433-49ec-bd54-3f91fbcb914c"
   },
   "outputs": [],
   "source": [
    "class RMSProb(Optimizer):\n",
    "    \n",
    "    def __init__(self, params, lr=0.01, eps=1e-10, decay=0.1) -> None:\n",
    "        super().__init__(params, {'lr': lr})\n",
    "        self.lr = lr\n",
    "        self.eps = eps\n",
    "        self.decay = decay\n",
    "        self.running_v = []\n",
    "    \n",
    "    def step(self):\n",
    "        with torch.no_grad():\n",
    "            for i, p in enumerate(self.param_groups[0]['params']):\n",
    "                if p.grad is not None:\n",
    "                    if len(self.running_v) <= i:\n",
    "                        self.running_v.append(torch.zeros_like(p))\n",
    "\n",
    "                    squared_grad = p.grad ** 2\n",
    "                    self.running_v[i].mul_(self.decay).add_(squared_grad, alpha=1 - self.decay)\n",
    "                    denominator = torch.sqrt(self.running_v[i]) + self.eps\n",
    "                    p.add_(-self.lr * (p.grad / denominator))\n",
    "                    self.running_v[i] = denominator.clone()"
   ]
  },
  {
   "cell_type": "code",
   "execution_count": null,
   "id": "711d7dd1-842d-42ec-b765-7b71217fbd90",
   "metadata": {
    "id": "711d7dd1-842d-42ec-b765-7b71217fbd90"
   },
   "outputs": [],
   "source": [
    "net = get_GarmentClassifier()\n",
    "epochs = 20\n",
    "optimizer = RMSProb(net.parameters())\n",
    "loss_fn = torch.nn.CrossEntropyLoss()\n",
    "losses, states = the_loop(net, optimizer, gd_data_loader, epochs=epochs)\n",
    "\n",
    "fig = plot_losses(losses)\n",
    "conf_pltly()\n",
    "init_notebook_mode(connected=False)\n",
    "iplot(fig)"
   ]
  },
  {
   "cell_type": "code",
   "execution_count": null,
   "id": "68adc4d3-64a6-4a8f-8d1d-f2d9a2a1c343",
   "metadata": {
    "id": "68adc4d3-64a6-4a8f-8d1d-f2d9a2a1c343"
   },
   "outputs": [],
   "source": [
    "# project states onto the main directions of the gradient updates using n samples over all steps starting from sample x\n",
    "# the directions are calculated using the last sample as a reference\n",
    "directions, state_ids, loss_coordinates = get_state_directions(states, n_states=10, start_from=800, reference_id=-1)\n",
    "\n",
    "# compute the losses over the main directions of the gradient updates\n",
    "x, y, Z, _ = get_loss_grid(net, data_loader, loss_fn, directions=directions, resolution=(20, 20), scale=loss_coordinates.abs().max().item())\n",
    "\n",
    "# plot the landscape as a contour plot\n",
    "fig = plot_contour(np.copy(x), np.copy(y), np.copy(Z), scale=True)\n",
    "fig.add_traces(go.Scatter(x=np.copy(loss_coordinates[0].cpu().numpy()),\n",
    "                          y=np.copy(loss_coordinates[1].cpu().numpy())))\n",
    "\n",
    "print('loss samples:', np.array(losses)[state_ids])\n",
    "\n",
    "conf_pltly()\n",
    "init_notebook_mode(connected=False)\n",
    "iplot(fig)"
   ]
  },
  {
   "attachments": {},
   "cell_type": "markdown",
   "id": "e206e871-c9ad-4430-9af6-dcce399ce6d9",
   "metadata": {
    "id": "e206e871-c9ad-4430-9af6-dcce399ce6d9"
   },
   "source": [
    "### Adaptive Moment Estimation (Adam)\n",
    "\n",
    "For the lecture, you should know the Adam optimizer. Implement it and compare it to previous methods.\n",
    "\n",
    "- What is the advantage of Adam compared to RMSProb?"
   ]
  },
  {
   "attachments": {},
   "cell_type": "markdown",
   "id": "555afb5d",
   "metadata": {},
   "source": [
    "* Adam utilizes momentum -> helps speed up the optimization process by including information from previous gradients"
   ]
  },
  {
   "cell_type": "code",
   "execution_count": null,
   "id": "cedd8989-05f6-45bd-ad66-15c40730cb6a",
   "metadata": {
    "id": "cedd8989-05f6-45bd-ad66-15c40730cb6a"
   },
   "outputs": [],
   "source": [
    "class Adam(Optimizer):\n",
    "    \n",
    "    def __init__(self, params, lr=0.01, grad_decay=0.9, squared_grad_decay=0.999, eps=1e-8) -> None:\n",
    "        super().__init__(params, {'lr': lr})\n",
    "        self.lr = lr\n",
    "        self.grad_decay = grad_decay\n",
    "        self.squared_grad_decay = squared_grad_decay\n",
    "        self.eps = eps\n",
    "        self.time_step = 0\n",
    "        self.moment_1 = []\n",
    "        self.moment_2 = []\n",
    "\n",
    "    def step(self):\n",
    "        with torch.no_grad():\n",
    "            self.time_step += 1\n",
    "            for i, p in enumerate(self.param_groups[0]['params']):\n",
    "                if p.grad is not None:\n",
    "                    if len(self.moment_1) <= i:\n",
    "                      self.moment_1.append(torch.zeros_like(p))\n",
    "                      self.moment_2.append(torch.zeros_like(p))\n",
    "\n",
    "\n",
    "                    grad = p.grad\n",
    "                    grad_squared = grad.pow(2)\n",
    "\n",
    "                    self.moment_1[i].mul_(self.grad_decay).add_(grad, alpha=1 - self.grad_decay)\n",
    "                    self.moment_2[i].mul_(self.squared_grad_decay).add_(grad_squared, alpha=1 - self.squared_grad_decay)\n",
    "\n",
    "                    moment_1_hat = self.moment_1[i] / (1 - self.grad_decay ** self.time_step)\n",
    "                    moment_2_hat = self.moment_2[i] / (1 - self.squared_grad_decay ** self.time_step)\n",
    "\n",
    "                    p.add_(-self.lr * (moment_1_hat / (torch.sqrt(moment_2_hat) + self.eps)))"
   ]
  },
  {
   "cell_type": "code",
   "execution_count": null,
   "id": "4603df77-6abe-4991-83cc-50a57c1b7e9d",
   "metadata": {
    "id": "4603df77-6abe-4991-83cc-50a57c1b7e9d"
   },
   "outputs": [],
   "source": [
    "net = get_GarmentClassifier()\n",
    "epochs = 20\n",
    "optimizer = Adam(net.parameters(), lr=0.002)\n",
    "loss_fn = torch.nn.CrossEntropyLoss()\n",
    "losses, states = the_loop(net, optimizer, gd_data_loader, epochs=epochs)\n",
    "\n",
    "fig = plot_losses(losses)\n",
    "conf_pltly()\n",
    "init_notebook_mode(connected=False)\n",
    "iplot(fig)"
   ]
  },
  {
   "cell_type": "code",
   "execution_count": null,
   "id": "e9132f1f-3f9c-4833-8439-97a23a1a5aa3",
   "metadata": {
    "id": "e9132f1f-3f9c-4833-8439-97a23a1a5aa3"
   },
   "outputs": [],
   "source": [
    "# project states onto the main directions of the gradient updates using n samples over all steps starting from sample x\n",
    "# the directions are calculated using the last sample as a reference\n",
    "directions, state_ids, loss_coordinates = get_state_directions(states, n_states=10, start_from=800, reference_id=-1)\n",
    "\n",
    "# compute the losses over the main directions of the gradient updates\n",
    "x, y, Z, _ = get_loss_grid(net, data_loader, loss_fn, directions=directions, resolution=(20, 20), scale=loss_coordinates.abs().max().item())\n",
    "\n",
    "# plot the landscape as a contour plot\n",
    "fig = plot_contour(np.copy(x), np.copy(y), np.copy(Z), scale=True)\n",
    "fig.add_traces(go.Scatter(x=np.copy(loss_coordinates[0].cpu().numpy()),\n",
    "                          y=np.copy(loss_coordinates[1].cpu().numpy())))\n",
    "\n",
    "print('loss samples:', np.array(losses)[state_ids])\n",
    "\n",
    "conf_pltly()\n",
    "init_notebook_mode(connected=False)\n",
    "iplot(fig)"
   ]
  },
  {
   "attachments": {},
   "cell_type": "markdown",
   "id": "50d7a0b4-928e-4ec9-9f46-d90a0b212397",
   "metadata": {
    "id": "50d7a0b4-928e-4ec9-9f46-d90a0b212397"
   },
   "source": [
    "## Stochastic Variance Reduction Gradient (SVRG)\n",
    "\n",
    "A last strategy to further improve convergence, stochastic variance reduction averages the last $n$ parameters to reduce oscillations in the last training episode. PyTorch already offers an implementation.\n",
    "\n",
    "- Does this improve the convergence in our case?"
   ]
  },
  {
   "attachments": {},
   "cell_type": "markdown",
   "id": "7d172faf",
   "metadata": {},
   "source": [
    "* since SVRG can reduce oscillations -> can improve convergence, which it does in our case"
   ]
  },
  {
   "cell_type": "code",
   "execution_count": null,
   "id": "90e4b165-23fa-4e64-a774-bf3d5bed6266",
   "metadata": {
    "id": "90e4b165-23fa-4e64-a774-bf3d5bed6266"
   },
   "outputs": [],
   "source": [
    "from torch.optim.swa_utils import AveragedModel"
   ]
  },
  {
   "cell_type": "code",
   "execution_count": null,
   "id": "67d2204f-b9a9-4cad-8221-9ea2448b6d6c",
   "metadata": {
    "id": "67d2204f-b9a9-4cad-8221-9ea2448b6d6c"
   },
   "outputs": [],
   "source": [
    "net = get_GarmentClassifier()\n",
    "avg_net = AveragedModel(net)\n",
    "epochs = 20\n",
    "optimizer = Adam(net.parameters(), lr=0.002)\n",
    "loss_fn = torch.nn.CrossEntropyLoss()\n",
    "losses, states = the_loop(net, optimizer, gd_data_loader, epochs=epochs, swa_model=avg_net, swa_start=15)\n",
    "\n",
    "fig = plot_losses(losses)\n",
    "conf_pltly()\n",
    "init_notebook_mode(connected=False)\n",
    "iplot(fig)"
   ]
  },
  {
   "cell_type": "code",
   "execution_count": null,
   "id": "6b0f72c2-dd3a-4988-b1c2-0bac0799f7ee",
   "metadata": {
    "id": "6b0f72c2-dd3a-4988-b1c2-0bac0799f7ee"
   },
   "outputs": [],
   "source": [
    "# project states onto the main directions of the gradient updates using n samples over all steps starting from sample x\n",
    "# the directions are calculated using the last sample as a reference\n",
    "directions, state_ids, loss_coordinates = get_state_directions(states, n_states=10, start_from=800, reference_id=-1)\n",
    "\n",
    "# compute the losses over the main directions of the gradient updates\n",
    "x, y, Z, _ = get_loss_grid(net, data_loader, loss_fn, directions=directions, resolution=(20, 20), scale=loss_coordinates.abs().max().item())\n",
    "\n",
    "# plot the landscape as a contour plot\n",
    "fig = plot_contour(np.copy(x), np.copy(y), np.copy(Z), scale=True)\n",
    "fig.add_traces(go.Scatter(x=np.copy(loss_coordinates[0].cpu().numpy()),\n",
    "                          y=np.copy(loss_coordinates[1].cpu().numpy())))\n",
    "\n",
    "print('loss samples:', np.array(losses)[state_ids])\n",
    "\n",
    "conf_pltly()\n",
    "init_notebook_mode(connected=False)\n",
    "iplot(fig)"
   ]
  },
  {
   "attachments": {},
   "cell_type": "markdown",
   "id": "11f8178b-33b4-4578-8f8d-88ff0e392251",
   "metadata": {
    "id": "11f8178b-33b4-4578-8f8d-88ff0e392251"
   },
   "source": [
    "## Hyperparameter Tuning\n",
    "\n",
    "As a last task, find the best training strategy from (SGDwMLD, AdaGrad, RMSProb, Adam) and their hyperparameters to classify MNIST with the GarmentClassifier with 1 epoch of training.\n",
    "\n",
    "For this we load all data and use a train, validation, and test split of 90%, 5%, 5%."
   ]
  },
  {
   "cell_type": "code",
   "execution_count": null,
   "id": "132fe59b-cdf2-44e0-8de0-de294ad7921f",
   "metadata": {
    "id": "132fe59b-cdf2-44e0-8de0-de294ad7921f"
   },
   "outputs": [],
   "source": [
    "data = datasets.MNIST(root=\"./\", transform=transforms, target_transform=None)\n",
    "train, val, test = random_split(data, [0.9, 0.05, 0.05])\n",
    "\n",
    "train_loader = DataLoader(train, batch_size=batch_size, shuffle=True)\n",
    "val_loader = DataLoader(val, batch_size=batch_size)\n",
    "test_loader = DataLoader(test, batch_size=batch_size)\n",
    "loss_fn = torch.nn.CrossEntropyLoss()\n",
    "\n",
    "res = []\n",
    "for lr in [0.1, 0.01, 0.001 , 0.0001]:\n",
    "    for lr_d in [0.1, 0.01, 0.001]:\n",
    "        accuracy = 0\n",
    "        correct_predictions = 0\n",
    "        net = get_GarmentClassifier()\n",
    "        opt = SGDwMLD(net.parameters(), lr, 0.9, lr_d)\n",
    "        avg_net = AveragedModel(net)\n",
    "        the_loop(net, opt, train_loader, val_loader=val_loader, epochs=1, swa_model=avg_net, swa_start=15)\n",
    "        net.eval()\n",
    "        for batch in test_loader:\n",
    "            img, gt = batch\n",
    "            pred = torch.argmax(net(img.cuda(cuda)), dim=1)\n",
    "            correct_predictions += (gt.cuda(cuda)==pred.cuda(cuda)).sum().item() / pred.size(dim=0)\n",
    "        accuracy = correct_predictions / len(test_loader)  # correctly classified samples / over total number of samples\n",
    "        res.append(f\"SGDwMLD: lr={lr}, lr_d={lr_d}, acc={accuracy}\")\n",
    "for r in res:\n",
    "    print(f\"* {r}\\n\")\n",
    "\n",
    "res = []\n",
    "for lr in [0.1, 0.01, 0.001 , 0.0001]:\n",
    "    accuracy = 0\n",
    "    correct_predictions = 0\n",
    "    net = get_GarmentClassifier()\n",
    "    opt = AdaGrad(net.parameters(), lr=lr)\n",
    "    avg_net = AveragedModel(net)\n",
    "    the_loop(net, opt, train_loader, val_loader=val_loader, epochs=1, swa_model=avg_net, swa_start=15)\n",
    "    net.eval()\n",
    "    for batch in test_loader:\n",
    "        img, gt = batch\n",
    "        pred = torch.argmax(net(img.cuda(cuda)), dim=1)\n",
    "        correct_predictions += (gt.cuda(cuda)==pred.cuda(cuda)).sum().item() / pred.size(dim=0)\n",
    "    accuracy = correct_predictions / len(test_loader)  # correctly classified samples / over total number of samples\n",
    "    res.append(f\"AdaGrad: lr={lr}, acc={accuracy}\")\n",
    "for r in res:\n",
    "    print(f\"* {r}\\n\")\n",
    "\n",
    "res = []\n",
    "for lr in [0.1, 0.01, 0.001 , 0.0001]:\n",
    "    for lr_d in [0.1, 0.01, 0.001]:\n",
    "        accuracy = 0\n",
    "        correct_predictions = 0\n",
    "        net = get_GarmentClassifier()\n",
    "        opt = RMSProb(net.parameters(), lr=lr, decay=lr_d)\n",
    "        avg_net = AveragedModel(net)\n",
    "        the_loop(net, opt, train_loader, val_loader=val_loader, epochs=1, swa_model=avg_net, swa_start=15)\n",
    "        net.eval()\n",
    "        for batch in test_loader:\n",
    "            img, gt = batch\n",
    "            pred = torch.argmax(net(img.cuda(cuda)), dim=1)\n",
    "            correct_predictions += (gt.cuda(cuda)==pred.cuda(cuda)).sum().item() / pred.size(dim=0)\n",
    "        accuracy = correct_predictions / len(test_loader)  # correctly classified samples / over total number of samples\n",
    "        res.append(f\"RMSProb: lr={lr}, decay={lr_d}, acc={accuracy}\")\n",
    "for r in res:\n",
    "    print(f\"* {r}\\n\")\n",
    "\n",
    "res = []\n",
    "for lr in [0.1, 0.01, 0.001 , 0.0001]:\n",
    "    accuracy = 0\n",
    "    correct_predictions = 0\n",
    "    net = get_GarmentClassifier()\n",
    "    opt = Adam(net.parameters(), lr=lr)\n",
    "    avg_net = AveragedModel(net)\n",
    "    the_loop(net, opt, train_loader, val_loader=val_loader, epochs=1, swa_model=avg_net, swa_start=15)\n",
    "    net.eval()\n",
    "    for batch in test_loader:\n",
    "        img, gt = batch\n",
    "        pred = torch.argmax(net(img.cuda(cuda)), dim=1)\n",
    "        correct_predictions += (gt.cuda(cuda)==pred.cuda(cuda)).sum().item() / pred.size(dim=0)\n",
    "    accuracy = correct_predictions / len(test_loader)  # correctly classified samples / over total number of samples\n",
    "    res.append(f\"Adam: lr={lr}, acc={accuracy}\")\n",
    "for r in res:\n",
    "    print(f\"* {r}\\n\")"
   ]
  },
  {
   "attachments": {},
   "cell_type": "markdown",
   "id": "cb718b27",
   "metadata": {},
   "source": [
    "* SGDwMLD: lr=0.1, lr_d=0.1, acc=0.9646181610942249\n",
    "\n",
    "* SGDwMLD: lr=0.1, lr_d=0.01, acc=0.9802431610942249\n",
    "\n",
    "* SGDwMLD: lr=0.1, lr_d=0.001, acc=0.9669927811550152\n",
    "\n",
    "* SGDwMLD: lr=0.01, lr_d=0.1, acc=0.27042173252279633\n",
    "\n",
    "* SGDwMLD: lr=0.01, lr_d=0.01, acc=0.9265767477203648\n",
    "\n",
    "* SGDwMLD: lr=0.01, lr_d=0.001, acc=0.9715520516717325\n",
    "\n",
    "* SGDwMLD: lr=0.001, lr_d=0.1, acc=0.12224544072948329\n",
    "\n",
    "* SGDwMLD: lr=0.001, lr_d=0.01, acc=0.23475493920972643\n",
    "\n",
    "* SGDwMLD: lr=0.001, lr_d=0.001, acc=0.49662803951367784\n",
    "\n",
    "* SGDwMLD: lr=0.0001, lr_d=0.1, acc=0.10092135258358662\n",
    "\n",
    "* SGDwMLD: lr=0.0001, lr_d=0.01, acc=0.07655775075987842\n",
    "\n",
    "* SGDwMLD: lr=0.0001, lr_d=0.001, acc=0.1172112462006079\n",
    "\n",
    "\n",
    "* AdaGrad: lr=0.1, acc=0.9710296352583586\n",
    "\n",
    "* AdaGrad: lr=0.01, acc=0.9710296352583586\n",
    "\n",
    "* AdaGrad: lr=0.001, acc=0.8916223404255319\n",
    "\n",
    "* AdaGrad: lr=0.0001, acc=0.4994300911854103\n",
    "\n",
    "\n",
    "* RMSProb: lr=0.1, decay=0.1, acc=0.09384498480243161\n",
    "\n",
    "* RMSProb: lr=0.1, decay=0.01, acc=0.11331686930091185\n",
    "\n",
    "* RMSProb: lr=0.1, decay=0.001, acc=0.1084726443768997\n",
    "\n",
    "* RMSProb: lr=0.01, decay=0.1, acc=0.9700322948328267\n",
    "\n",
    "* RMSProb: lr=0.01, decay=0.01, acc=0.9823803191489362\n",
    "\n",
    "* RMSProb: lr=0.01, decay=0.001, acc=0.9777260638297872\n",
    "\n",
    "* RMSProb: lr=0.001, decay=0.1, acc=0.780015197568389\n",
    "\n",
    "* RMSProb: lr=0.001, decay=0.01, acc=0.961911094224924\n",
    "\n",
    "* RMSProb: lr=0.001, decay=0.001, acc=0.973356762917933\n",
    "\n",
    "* RMSProb: lr=0.0001, decay=0.1, acc=0.1084726443768997\n",
    "\n",
    "* RMSProb: lr=0.0001, decay=0.01, acc=0.6493161094224924\n",
    "\n",
    "* RMSProb: lr=0.0001, decay=0.001, acc=0.8045212765957447\n",
    "\n",
    "\n",
    "* Adam: lr=0.1, acc=0.11331686930091185\n",
    "\n",
    "* Adam: lr=0.01, acc=0.9750189969604862\n",
    "\n",
    "* Adam: lr=0.001, acc=0.9740691489361702\n",
    "\n",
    "* Adam: lr=0.0001, acc=0.896466565349544\n",
    "\n"
   ]
  }
 ],
 "metadata": {
  "accelerator": "GPU",
  "colab": {
   "gpuType": "T4",
   "provenance": []
  },
  "kernelspec": {
   "display_name": "Python 3 (ipykernel)",
   "language": "python",
   "name": "python3"
  },
  "language_info": {
   "codemirror_mode": {
    "name": "ipython",
    "version": 3
   },
   "file_extension": ".py",
   "mimetype": "text/x-python",
   "name": "python",
   "nbconvert_exporter": "python",
   "pygments_lexer": "ipython3",
   "version": "3.10.9"
  },
  "widgets": {
   "application/vnd.jupyter.widget-state+json": {
    "062ca678830a4d84bd54bba747597306": {
     "model_module": "@jupyter-widgets/controls",
     "model_module_version": "1.5.0",
     "model_name": "HTMLModel",
     "state": {
      "_dom_classes": [],
      "_model_module": "@jupyter-widgets/controls",
      "_model_module_version": "1.5.0",
      "_model_name": "HTMLModel",
      "_view_count": null,
      "_view_module": "@jupyter-widgets/controls",
      "_view_module_version": "1.5.0",
      "_view_name": "HTMLView",
      "description": "",
      "description_tooltip": null,
      "layout": "IPY_MODEL_572787ca76914ecba1d9f9227a3f6ea5",
      "placeholder": "​",
      "style": "IPY_MODEL_d06cc6e9d4a74ff389afceb47ec47a48",
      "value": " 1002/60000 [00:06&lt;05:54, 166.29it/s, loss=0.00211, step=1002]"
     }
    },
    "0d07ea9b69ba4fb5a0f8b1940ad2d1c2": {
     "model_module": "@jupyter-widgets/controls",
     "model_module_version": "1.5.0",
     "model_name": "HBoxModel",
     "state": {
      "_dom_classes": [],
      "_model_module": "@jupyter-widgets/controls",
      "_model_module_version": "1.5.0",
      "_model_name": "HBoxModel",
      "_view_count": null,
      "_view_module": "@jupyter-widgets/controls",
      "_view_module_version": "1.5.0",
      "_view_name": "HBoxView",
      "box_style": "",
      "children": [
       "IPY_MODEL_9d9b3f835d5a4083993317bc35913d25",
       "IPY_MODEL_c50cbc31e84f4b0ca3837b2ef5b698b7",
       "IPY_MODEL_df284a6a0b4f4cea9d4572e0fa510d5c"
      ],
      "layout": "IPY_MODEL_642d34178d844643aae5feac342d99e0"
     }
    },
    "0f1b8d43fe884cf093310f3334860aa8": {
     "model_module": "@jupyter-widgets/base",
     "model_module_version": "1.2.0",
     "model_name": "LayoutModel",
     "state": {
      "_model_module": "@jupyter-widgets/base",
      "_model_module_version": "1.2.0",
      "_model_name": "LayoutModel",
      "_view_count": null,
      "_view_module": "@jupyter-widgets/base",
      "_view_module_version": "1.2.0",
      "_view_name": "LayoutView",
      "align_content": null,
      "align_items": null,
      "align_self": null,
      "border": null,
      "bottom": null,
      "display": null,
      "flex": null,
      "flex_flow": null,
      "grid_area": null,
      "grid_auto_columns": null,
      "grid_auto_flow": null,
      "grid_auto_rows": null,
      "grid_column": null,
      "grid_gap": null,
      "grid_row": null,
      "grid_template_areas": null,
      "grid_template_columns": null,
      "grid_template_rows": null,
      "height": null,
      "justify_content": null,
      "justify_items": null,
      "left": null,
      "margin": null,
      "max_height": null,
      "max_width": null,
      "min_height": null,
      "min_width": null,
      "object_fit": null,
      "object_position": null,
      "order": null,
      "overflow": null,
      "overflow_x": null,
      "overflow_y": null,
      "padding": null,
      "right": null,
      "top": null,
      "visibility": null,
      "width": null
     }
    },
    "10df8b95f68a4a56a2bd82b667410e22": {
     "model_module": "@jupyter-widgets/base",
     "model_module_version": "1.2.0",
     "model_name": "LayoutModel",
     "state": {
      "_model_module": "@jupyter-widgets/base",
      "_model_module_version": "1.2.0",
      "_model_name": "LayoutModel",
      "_view_count": null,
      "_view_module": "@jupyter-widgets/base",
      "_view_module_version": "1.2.0",
      "_view_name": "LayoutView",
      "align_content": null,
      "align_items": null,
      "align_self": null,
      "border": null,
      "bottom": null,
      "display": null,
      "flex": null,
      "flex_flow": null,
      "grid_area": null,
      "grid_auto_columns": null,
      "grid_auto_flow": null,
      "grid_auto_rows": null,
      "grid_column": null,
      "grid_gap": null,
      "grid_row": null,
      "grid_template_areas": null,
      "grid_template_columns": null,
      "grid_template_rows": null,
      "height": null,
      "justify_content": null,
      "justify_items": null,
      "left": null,
      "margin": null,
      "max_height": null,
      "max_width": null,
      "min_height": null,
      "min_width": null,
      "object_fit": null,
      "object_position": null,
      "order": null,
      "overflow": null,
      "overflow_x": null,
      "overflow_y": null,
      "padding": null,
      "right": null,
      "top": null,
      "visibility": null,
      "width": null
     }
    },
    "19030a03878e465eab99459800186c3c": {
     "model_module": "@jupyter-widgets/base",
     "model_module_version": "1.2.0",
     "model_name": "LayoutModel",
     "state": {
      "_model_module": "@jupyter-widgets/base",
      "_model_module_version": "1.2.0",
      "_model_name": "LayoutModel",
      "_view_count": null,
      "_view_module": "@jupyter-widgets/base",
      "_view_module_version": "1.2.0",
      "_view_name": "LayoutView",
      "align_content": null,
      "align_items": null,
      "align_self": null,
      "border": null,
      "bottom": null,
      "display": null,
      "flex": null,
      "flex_flow": null,
      "grid_area": null,
      "grid_auto_columns": null,
      "grid_auto_flow": null,
      "grid_auto_rows": null,
      "grid_column": null,
      "grid_gap": null,
      "grid_row": null,
      "grid_template_areas": null,
      "grid_template_columns": null,
      "grid_template_rows": null,
      "height": null,
      "justify_content": null,
      "justify_items": null,
      "left": null,
      "margin": null,
      "max_height": null,
      "max_width": null,
      "min_height": null,
      "min_width": null,
      "object_fit": null,
      "object_position": null,
      "order": null,
      "overflow": null,
      "overflow_x": null,
      "overflow_y": null,
      "padding": null,
      "right": null,
      "top": null,
      "visibility": null,
      "width": null
     }
    },
    "2587459e0d3f498791118fa7ee6f4331": {
     "model_module": "@jupyter-widgets/controls",
     "model_module_version": "1.5.0",
     "model_name": "DescriptionStyleModel",
     "state": {
      "_model_module": "@jupyter-widgets/controls",
      "_model_module_version": "1.5.0",
      "_model_name": "DescriptionStyleModel",
      "_view_count": null,
      "_view_module": "@jupyter-widgets/base",
      "_view_module_version": "1.2.0",
      "_view_name": "StyleView",
      "description_width": ""
     }
    },
    "2c8f11fb56f44b6dba9e755cf7c80d56": {
     "model_module": "@jupyter-widgets/base",
     "model_module_version": "1.2.0",
     "model_name": "LayoutModel",
     "state": {
      "_model_module": "@jupyter-widgets/base",
      "_model_module_version": "1.2.0",
      "_model_name": "LayoutModel",
      "_view_count": null,
      "_view_module": "@jupyter-widgets/base",
      "_view_module_version": "1.2.0",
      "_view_name": "LayoutView",
      "align_content": null,
      "align_items": null,
      "align_self": null,
      "border": null,
      "bottom": null,
      "display": null,
      "flex": null,
      "flex_flow": null,
      "grid_area": null,
      "grid_auto_columns": null,
      "grid_auto_flow": null,
      "grid_auto_rows": null,
      "grid_column": null,
      "grid_gap": null,
      "grid_row": null,
      "grid_template_areas": null,
      "grid_template_columns": null,
      "grid_template_rows": null,
      "height": null,
      "justify_content": null,
      "justify_items": null,
      "left": null,
      "margin": null,
      "max_height": null,
      "max_width": null,
      "min_height": null,
      "min_width": null,
      "object_fit": null,
      "object_position": null,
      "order": null,
      "overflow": null,
      "overflow_x": null,
      "overflow_y": null,
      "padding": null,
      "right": null,
      "top": null,
      "visibility": null,
      "width": null
     }
    },
    "336fc229c897449ca9295a3550aaa69b": {
     "model_module": "@jupyter-widgets/base",
     "model_module_version": "1.2.0",
     "model_name": "LayoutModel",
     "state": {
      "_model_module": "@jupyter-widgets/base",
      "_model_module_version": "1.2.0",
      "_model_name": "LayoutModel",
      "_view_count": null,
      "_view_module": "@jupyter-widgets/base",
      "_view_module_version": "1.2.0",
      "_view_name": "LayoutView",
      "align_content": null,
      "align_items": null,
      "align_self": null,
      "border": null,
      "bottom": null,
      "display": null,
      "flex": null,
      "flex_flow": null,
      "grid_area": null,
      "grid_auto_columns": null,
      "grid_auto_flow": null,
      "grid_auto_rows": null,
      "grid_column": null,
      "grid_gap": null,
      "grid_row": null,
      "grid_template_areas": null,
      "grid_template_columns": null,
      "grid_template_rows": null,
      "height": null,
      "justify_content": null,
      "justify_items": null,
      "left": null,
      "margin": null,
      "max_height": null,
      "max_width": null,
      "min_height": null,
      "min_width": null,
      "object_fit": null,
      "object_position": null,
      "order": null,
      "overflow": null,
      "overflow_x": null,
      "overflow_y": null,
      "padding": null,
      "right": null,
      "top": null,
      "visibility": null,
      "width": null
     }
    },
    "33d79cf3a3ca4299b348da4121bb802b": {
     "model_module": "@jupyter-widgets/controls",
     "model_module_version": "1.5.0",
     "model_name": "HTMLModel",
     "state": {
      "_dom_classes": [],
      "_model_module": "@jupyter-widgets/controls",
      "_model_module_version": "1.5.0",
      "_model_name": "HTMLModel",
      "_view_count": null,
      "_view_module": "@jupyter-widgets/controls",
      "_view_module_version": "1.5.0",
      "_view_name": "HTMLView",
      "description": "",
      "description_tooltip": null,
      "layout": "IPY_MODEL_a20352c67cc543048fbcb5f35064fab0",
      "placeholder": "​",
      "style": "IPY_MODEL_3b73a984d4fa480880d21d1d637e7161",
      "value": " 60000/60000 [04:50&lt;00:00, 220.88it/s, loss=1.88e-6, step=6e+4]"
     }
    },
    "3535d6a6c2b446c78d0c59b8f3d04ab0": {
     "model_module": "@jupyter-widgets/controls",
     "model_module_version": "1.5.0",
     "model_name": "DescriptionStyleModel",
     "state": {
      "_model_module": "@jupyter-widgets/controls",
      "_model_module_version": "1.5.0",
      "_model_name": "DescriptionStyleModel",
      "_view_count": null,
      "_view_module": "@jupyter-widgets/base",
      "_view_module_version": "1.2.0",
      "_view_name": "StyleView",
      "description_width": ""
     }
    },
    "3ad97a4040094849b526e4bb2164ddf8": {
     "model_module": "@jupyter-widgets/controls",
     "model_module_version": "1.5.0",
     "model_name": "DescriptionStyleModel",
     "state": {
      "_model_module": "@jupyter-widgets/controls",
      "_model_module_version": "1.5.0",
      "_model_name": "DescriptionStyleModel",
      "_view_count": null,
      "_view_module": "@jupyter-widgets/base",
      "_view_module_version": "1.2.0",
      "_view_name": "StyleView",
      "description_width": ""
     }
    },
    "3b73a984d4fa480880d21d1d637e7161": {
     "model_module": "@jupyter-widgets/controls",
     "model_module_version": "1.5.0",
     "model_name": "DescriptionStyleModel",
     "state": {
      "_model_module": "@jupyter-widgets/controls",
      "_model_module_version": "1.5.0",
      "_model_name": "DescriptionStyleModel",
      "_view_count": null,
      "_view_module": "@jupyter-widgets/base",
      "_view_module_version": "1.2.0",
      "_view_name": "StyleView",
      "description_width": ""
     }
    },
    "3da0d7b7f3c341ff8f2e7d5d662708c0": {
     "model_module": "@jupyter-widgets/controls",
     "model_module_version": "1.5.0",
     "model_name": "HTMLModel",
     "state": {
      "_dom_classes": [],
      "_model_module": "@jupyter-widgets/controls",
      "_model_module_version": "1.5.0",
      "_model_name": "HTMLModel",
      "_view_count": null,
      "_view_module": "@jupyter-widgets/controls",
      "_view_module_version": "1.5.0",
      "_view_name": "HTMLView",
      "description": "",
      "description_tooltip": null,
      "layout": "IPY_MODEL_43282a7eb65b4aa48f794a012887fbdf",
      "placeholder": "​",
      "style": "IPY_MODEL_3535d6a6c2b446c78d0c59b8f3d04ab0",
      "value": "epoch 0:  12%"
     }
    },
    "3df392b10bdd422ebe9f61da8bcf3a30": {
     "model_module": "@jupyter-widgets/controls",
     "model_module_version": "1.5.0",
     "model_name": "HTMLModel",
     "state": {
      "_dom_classes": [],
      "_model_module": "@jupyter-widgets/controls",
      "_model_module_version": "1.5.0",
      "_model_name": "HTMLModel",
      "_view_count": null,
      "_view_module": "@jupyter-widgets/controls",
      "_view_module_version": "1.5.0",
      "_view_name": "HTMLView",
      "description": "",
      "description_tooltip": null,
      "layout": "IPY_MODEL_10df8b95f68a4a56a2bd82b667410e22",
      "placeholder": "​",
      "style": "IPY_MODEL_3ad97a4040094849b526e4bb2164ddf8",
      "value": " 7351/60000 [00:49&lt;05:25, 161.81it/s, loss=0.000722, step=7351]"
     }
    },
    "3fa4b2c235d049c78ab8fb281ff7db50": {
     "model_module": "@jupyter-widgets/controls",
     "model_module_version": "1.5.0",
     "model_name": "ProgressStyleModel",
     "state": {
      "_model_module": "@jupyter-widgets/controls",
      "_model_module_version": "1.5.0",
      "_model_name": "ProgressStyleModel",
      "_view_count": null,
      "_view_module": "@jupyter-widgets/base",
      "_view_module_version": "1.2.0",
      "_view_name": "StyleView",
      "bar_color": null,
      "description_width": ""
     }
    },
    "43282a7eb65b4aa48f794a012887fbdf": {
     "model_module": "@jupyter-widgets/base",
     "model_module_version": "1.2.0",
     "model_name": "LayoutModel",
     "state": {
      "_model_module": "@jupyter-widgets/base",
      "_model_module_version": "1.2.0",
      "_model_name": "LayoutModel",
      "_view_count": null,
      "_view_module": "@jupyter-widgets/base",
      "_view_module_version": "1.2.0",
      "_view_name": "LayoutView",
      "align_content": null,
      "align_items": null,
      "align_self": null,
      "border": null,
      "bottom": null,
      "display": null,
      "flex": null,
      "flex_flow": null,
      "grid_area": null,
      "grid_auto_columns": null,
      "grid_auto_flow": null,
      "grid_auto_rows": null,
      "grid_column": null,
      "grid_gap": null,
      "grid_row": null,
      "grid_template_areas": null,
      "grid_template_columns": null,
      "grid_template_rows": null,
      "height": null,
      "justify_content": null,
      "justify_items": null,
      "left": null,
      "margin": null,
      "max_height": null,
      "max_width": null,
      "min_height": null,
      "min_width": null,
      "object_fit": null,
      "object_position": null,
      "order": null,
      "overflow": null,
      "overflow_x": null,
      "overflow_y": null,
      "padding": null,
      "right": null,
      "top": null,
      "visibility": null,
      "width": null
     }
    },
    "4f4bf253a8ed4a1caf66c5ac8e424cfb": {
     "model_module": "@jupyter-widgets/base",
     "model_module_version": "1.2.0",
     "model_name": "LayoutModel",
     "state": {
      "_model_module": "@jupyter-widgets/base",
      "_model_module_version": "1.2.0",
      "_model_name": "LayoutModel",
      "_view_count": null,
      "_view_module": "@jupyter-widgets/base",
      "_view_module_version": "1.2.0",
      "_view_name": "LayoutView",
      "align_content": null,
      "align_items": null,
      "align_self": null,
      "border": null,
      "bottom": null,
      "display": null,
      "flex": null,
      "flex_flow": null,
      "grid_area": null,
      "grid_auto_columns": null,
      "grid_auto_flow": null,
      "grid_auto_rows": null,
      "grid_column": null,
      "grid_gap": null,
      "grid_row": null,
      "grid_template_areas": null,
      "grid_template_columns": null,
      "grid_template_rows": null,
      "height": null,
      "justify_content": null,
      "justify_items": null,
      "left": null,
      "margin": null,
      "max_height": null,
      "max_width": null,
      "min_height": null,
      "min_width": null,
      "object_fit": null,
      "object_position": null,
      "order": null,
      "overflow": null,
      "overflow_x": null,
      "overflow_y": null,
      "padding": null,
      "right": null,
      "top": null,
      "visibility": null,
      "width": null
     }
    },
    "538c7999a3cb4a8a8e50c034a7dc4850": {
     "model_module": "@jupyter-widgets/controls",
     "model_module_version": "1.5.0",
     "model_name": "HBoxModel",
     "state": {
      "_dom_classes": [],
      "_model_module": "@jupyter-widgets/controls",
      "_model_module_version": "1.5.0",
      "_model_name": "HBoxModel",
      "_view_count": null,
      "_view_module": "@jupyter-widgets/controls",
      "_view_module_version": "1.5.0",
      "_view_name": "HBoxView",
      "box_style": "",
      "children": [
       "IPY_MODEL_f844f07dabfb43f1be2e16951ac388ee",
       "IPY_MODEL_bf31742fbcc140a0b050c3a2381ba1be",
       "IPY_MODEL_062ca678830a4d84bd54bba747597306"
      ],
      "layout": "IPY_MODEL_0f1b8d43fe884cf093310f3334860aa8"
     }
    },
    "5625c95aac5b4d6f86996bfa3f0b087f": {
     "model_module": "@jupyter-widgets/controls",
     "model_module_version": "1.5.0",
     "model_name": "HBoxModel",
     "state": {
      "_dom_classes": [],
      "_model_module": "@jupyter-widgets/controls",
      "_model_module_version": "1.5.0",
      "_model_name": "HBoxModel",
      "_view_count": null,
      "_view_module": "@jupyter-widgets/controls",
      "_view_module_version": "1.5.0",
      "_view_name": "HBoxView",
      "box_style": "",
      "children": [
       "IPY_MODEL_92613cc122ce4f6b8869ddf6d3e1df80",
       "IPY_MODEL_cc5fb9157a7241f1a1481ab79568ae2a",
       "IPY_MODEL_33d79cf3a3ca4299b348da4121bb802b"
      ],
      "layout": "IPY_MODEL_4f4bf253a8ed4a1caf66c5ac8e424cfb"
     }
    },
    "5703904c21e349bf8aa107809b99a2e2": {
     "model_module": "@jupyter-widgets/base",
     "model_module_version": "1.2.0",
     "model_name": "LayoutModel",
     "state": {
      "_model_module": "@jupyter-widgets/base",
      "_model_module_version": "1.2.0",
      "_model_name": "LayoutModel",
      "_view_count": null,
      "_view_module": "@jupyter-widgets/base",
      "_view_module_version": "1.2.0",
      "_view_name": "LayoutView",
      "align_content": null,
      "align_items": null,
      "align_self": null,
      "border": null,
      "bottom": null,
      "display": null,
      "flex": null,
      "flex_flow": null,
      "grid_area": null,
      "grid_auto_columns": null,
      "grid_auto_flow": null,
      "grid_auto_rows": null,
      "grid_column": null,
      "grid_gap": null,
      "grid_row": null,
      "grid_template_areas": null,
      "grid_template_columns": null,
      "grid_template_rows": null,
      "height": null,
      "justify_content": null,
      "justify_items": null,
      "left": null,
      "margin": null,
      "max_height": null,
      "max_width": null,
      "min_height": null,
      "min_width": null,
      "object_fit": null,
      "object_position": null,
      "order": null,
      "overflow": null,
      "overflow_x": null,
      "overflow_y": null,
      "padding": null,
      "right": null,
      "top": null,
      "visibility": null,
      "width": null
     }
    },
    "572787ca76914ecba1d9f9227a3f6ea5": {
     "model_module": "@jupyter-widgets/base",
     "model_module_version": "1.2.0",
     "model_name": "LayoutModel",
     "state": {
      "_model_module": "@jupyter-widgets/base",
      "_model_module_version": "1.2.0",
      "_model_name": "LayoutModel",
      "_view_count": null,
      "_view_module": "@jupyter-widgets/base",
      "_view_module_version": "1.2.0",
      "_view_name": "LayoutView",
      "align_content": null,
      "align_items": null,
      "align_self": null,
      "border": null,
      "bottom": null,
      "display": null,
      "flex": null,
      "flex_flow": null,
      "grid_area": null,
      "grid_auto_columns": null,
      "grid_auto_flow": null,
      "grid_auto_rows": null,
      "grid_column": null,
      "grid_gap": null,
      "grid_row": null,
      "grid_template_areas": null,
      "grid_template_columns": null,
      "grid_template_rows": null,
      "height": null,
      "justify_content": null,
      "justify_items": null,
      "left": null,
      "margin": null,
      "max_height": null,
      "max_width": null,
      "min_height": null,
      "min_width": null,
      "object_fit": null,
      "object_position": null,
      "order": null,
      "overflow": null,
      "overflow_x": null,
      "overflow_y": null,
      "padding": null,
      "right": null,
      "top": null,
      "visibility": null,
      "width": null
     }
    },
    "5741d015f6634efc9bb2965f23a0aa36": {
     "model_module": "@jupyter-widgets/controls",
     "model_module_version": "1.5.0",
     "model_name": "FloatProgressModel",
     "state": {
      "_dom_classes": [],
      "_model_module": "@jupyter-widgets/controls",
      "_model_module_version": "1.5.0",
      "_model_name": "FloatProgressModel",
      "_view_count": null,
      "_view_module": "@jupyter-widgets/controls",
      "_view_module_version": "1.5.0",
      "_view_name": "ProgressView",
      "bar_style": "",
      "description": "",
      "description_tooltip": null,
      "layout": "IPY_MODEL_5703904c21e349bf8aa107809b99a2e2",
      "max": 60000,
      "min": 0,
      "orientation": "horizontal",
      "style": "IPY_MODEL_5b1f1527d0a84cd89f9aa63d94065693",
      "value": 7351
     }
    },
    "57fbae6c4000458c8bc79cfb456bb537": {
     "model_module": "@jupyter-widgets/base",
     "model_module_version": "1.2.0",
     "model_name": "LayoutModel",
     "state": {
      "_model_module": "@jupyter-widgets/base",
      "_model_module_version": "1.2.0",
      "_model_name": "LayoutModel",
      "_view_count": null,
      "_view_module": "@jupyter-widgets/base",
      "_view_module_version": "1.2.0",
      "_view_name": "LayoutView",
      "align_content": null,
      "align_items": null,
      "align_self": null,
      "border": null,
      "bottom": null,
      "display": null,
      "flex": null,
      "flex_flow": null,
      "grid_area": null,
      "grid_auto_columns": null,
      "grid_auto_flow": null,
      "grid_auto_rows": null,
      "grid_column": null,
      "grid_gap": null,
      "grid_row": null,
      "grid_template_areas": null,
      "grid_template_columns": null,
      "grid_template_rows": null,
      "height": null,
      "justify_content": null,
      "justify_items": null,
      "left": null,
      "margin": null,
      "max_height": null,
      "max_width": null,
      "min_height": null,
      "min_width": null,
      "object_fit": null,
      "object_position": null,
      "order": null,
      "overflow": null,
      "overflow_x": null,
      "overflow_y": null,
      "padding": null,
      "right": null,
      "top": null,
      "visibility": null,
      "width": null
     }
    },
    "5b1f1527d0a84cd89f9aa63d94065693": {
     "model_module": "@jupyter-widgets/controls",
     "model_module_version": "1.5.0",
     "model_name": "ProgressStyleModel",
     "state": {
      "_model_module": "@jupyter-widgets/controls",
      "_model_module_version": "1.5.0",
      "_model_name": "ProgressStyleModel",
      "_view_count": null,
      "_view_module": "@jupyter-widgets/base",
      "_view_module_version": "1.2.0",
      "_view_name": "StyleView",
      "bar_color": null,
      "description_width": ""
     }
    },
    "5db85e614e24496aa43a7a2faf08660e": {
     "model_module": "@jupyter-widgets/controls",
     "model_module_version": "1.5.0",
     "model_name": "DescriptionStyleModel",
     "state": {
      "_model_module": "@jupyter-widgets/controls",
      "_model_module_version": "1.5.0",
      "_model_name": "DescriptionStyleModel",
      "_view_count": null,
      "_view_module": "@jupyter-widgets/base",
      "_view_module_version": "1.2.0",
      "_view_name": "StyleView",
      "description_width": ""
     }
    },
    "642d34178d844643aae5feac342d99e0": {
     "model_module": "@jupyter-widgets/base",
     "model_module_version": "1.2.0",
     "model_name": "LayoutModel",
     "state": {
      "_model_module": "@jupyter-widgets/base",
      "_model_module_version": "1.2.0",
      "_model_name": "LayoutModel",
      "_view_count": null,
      "_view_module": "@jupyter-widgets/base",
      "_view_module_version": "1.2.0",
      "_view_name": "LayoutView",
      "align_content": null,
      "align_items": null,
      "align_self": null,
      "border": null,
      "bottom": null,
      "display": null,
      "flex": null,
      "flex_flow": null,
      "grid_area": null,
      "grid_auto_columns": null,
      "grid_auto_flow": null,
      "grid_auto_rows": null,
      "grid_column": null,
      "grid_gap": null,
      "grid_row": null,
      "grid_template_areas": null,
      "grid_template_columns": null,
      "grid_template_rows": null,
      "height": null,
      "justify_content": null,
      "justify_items": null,
      "left": null,
      "margin": null,
      "max_height": null,
      "max_width": null,
      "min_height": null,
      "min_width": null,
      "object_fit": null,
      "object_position": null,
      "order": null,
      "overflow": null,
      "overflow_x": null,
      "overflow_y": null,
      "padding": null,
      "right": null,
      "top": null,
      "visibility": null,
      "width": null
     }
    },
    "71ec931318e847efa5ccc7085d914935": {
     "model_module": "@jupyter-widgets/base",
     "model_module_version": "1.2.0",
     "model_name": "LayoutModel",
     "state": {
      "_model_module": "@jupyter-widgets/base",
      "_model_module_version": "1.2.0",
      "_model_name": "LayoutModel",
      "_view_count": null,
      "_view_module": "@jupyter-widgets/base",
      "_view_module_version": "1.2.0",
      "_view_name": "LayoutView",
      "align_content": null,
      "align_items": null,
      "align_self": null,
      "border": null,
      "bottom": null,
      "display": null,
      "flex": null,
      "flex_flow": null,
      "grid_area": null,
      "grid_auto_columns": null,
      "grid_auto_flow": null,
      "grid_auto_rows": null,
      "grid_column": null,
      "grid_gap": null,
      "grid_row": null,
      "grid_template_areas": null,
      "grid_template_columns": null,
      "grid_template_rows": null,
      "height": null,
      "justify_content": null,
      "justify_items": null,
      "left": null,
      "margin": null,
      "max_height": null,
      "max_width": null,
      "min_height": null,
      "min_width": null,
      "object_fit": null,
      "object_position": null,
      "order": null,
      "overflow": null,
      "overflow_x": null,
      "overflow_y": null,
      "padding": null,
      "right": null,
      "top": null,
      "visibility": null,
      "width": null
     }
    },
    "74ebdd7b634e41059d35ab0cd240cfbd": {
     "model_module": "@jupyter-widgets/base",
     "model_module_version": "1.2.0",
     "model_name": "LayoutModel",
     "state": {
      "_model_module": "@jupyter-widgets/base",
      "_model_module_version": "1.2.0",
      "_model_name": "LayoutModel",
      "_view_count": null,
      "_view_module": "@jupyter-widgets/base",
      "_view_module_version": "1.2.0",
      "_view_name": "LayoutView",
      "align_content": null,
      "align_items": null,
      "align_self": null,
      "border": null,
      "bottom": null,
      "display": null,
      "flex": null,
      "flex_flow": null,
      "grid_area": null,
      "grid_auto_columns": null,
      "grid_auto_flow": null,
      "grid_auto_rows": null,
      "grid_column": null,
      "grid_gap": null,
      "grid_row": null,
      "grid_template_areas": null,
      "grid_template_columns": null,
      "grid_template_rows": null,
      "height": null,
      "justify_content": null,
      "justify_items": null,
      "left": null,
      "margin": null,
      "max_height": null,
      "max_width": null,
      "min_height": null,
      "min_width": null,
      "object_fit": null,
      "object_position": null,
      "order": null,
      "overflow": null,
      "overflow_x": null,
      "overflow_y": null,
      "padding": null,
      "right": null,
      "top": null,
      "visibility": null,
      "width": null
     }
    },
    "7e7087b94ab145e796f31e5ed7ba0702": {
     "model_module": "@jupyter-widgets/base",
     "model_module_version": "1.2.0",
     "model_name": "LayoutModel",
     "state": {
      "_model_module": "@jupyter-widgets/base",
      "_model_module_version": "1.2.0",
      "_model_name": "LayoutModel",
      "_view_count": null,
      "_view_module": "@jupyter-widgets/base",
      "_view_module_version": "1.2.0",
      "_view_name": "LayoutView",
      "align_content": null,
      "align_items": null,
      "align_self": null,
      "border": null,
      "bottom": null,
      "display": null,
      "flex": null,
      "flex_flow": null,
      "grid_area": null,
      "grid_auto_columns": null,
      "grid_auto_flow": null,
      "grid_auto_rows": null,
      "grid_column": null,
      "grid_gap": null,
      "grid_row": null,
      "grid_template_areas": null,
      "grid_template_columns": null,
      "grid_template_rows": null,
      "height": null,
      "justify_content": null,
      "justify_items": null,
      "left": null,
      "margin": null,
      "max_height": null,
      "max_width": null,
      "min_height": null,
      "min_width": null,
      "object_fit": null,
      "object_position": null,
      "order": null,
      "overflow": null,
      "overflow_x": null,
      "overflow_y": null,
      "padding": null,
      "right": null,
      "top": null,
      "visibility": null,
      "width": null
     }
    },
    "89c70dfe7d5047f68271044e1fab6873": {
     "model_module": "@jupyter-widgets/controls",
     "model_module_version": "1.5.0",
     "model_name": "ProgressStyleModel",
     "state": {
      "_model_module": "@jupyter-widgets/controls",
      "_model_module_version": "1.5.0",
      "_model_name": "ProgressStyleModel",
      "_view_count": null,
      "_view_module": "@jupyter-widgets/base",
      "_view_module_version": "1.2.0",
      "_view_name": "StyleView",
      "bar_color": null,
      "description_width": ""
     }
    },
    "8e99079955e041bea199c3f39974f401": {
     "model_module": "@jupyter-widgets/controls",
     "model_module_version": "1.5.0",
     "model_name": "DescriptionStyleModel",
     "state": {
      "_model_module": "@jupyter-widgets/controls",
      "_model_module_version": "1.5.0",
      "_model_name": "DescriptionStyleModel",
      "_view_count": null,
      "_view_module": "@jupyter-widgets/base",
      "_view_module_version": "1.2.0",
      "_view_name": "StyleView",
      "description_width": ""
     }
    },
    "8f2e8f880866484eb014022c911fdbe8": {
     "model_module": "@jupyter-widgets/controls",
     "model_module_version": "1.5.0",
     "model_name": "DescriptionStyleModel",
     "state": {
      "_model_module": "@jupyter-widgets/controls",
      "_model_module_version": "1.5.0",
      "_model_name": "DescriptionStyleModel",
      "_view_count": null,
      "_view_module": "@jupyter-widgets/base",
      "_view_module_version": "1.2.0",
      "_view_name": "StyleView",
      "description_width": ""
     }
    },
    "92613cc122ce4f6b8869ddf6d3e1df80": {
     "model_module": "@jupyter-widgets/controls",
     "model_module_version": "1.5.0",
     "model_name": "HTMLModel",
     "state": {
      "_dom_classes": [],
      "_model_module": "@jupyter-widgets/controls",
      "_model_module_version": "1.5.0",
      "_model_name": "HTMLModel",
      "_view_count": null,
      "_view_module": "@jupyter-widgets/controls",
      "_view_module_version": "1.5.0",
      "_view_name": "HTMLView",
      "description": "",
      "description_tooltip": null,
      "layout": "IPY_MODEL_19030a03878e465eab99459800186c3c",
      "placeholder": "​",
      "style": "IPY_MODEL_2587459e0d3f498791118fa7ee6f4331",
      "value": "epoch 9: 100%"
     }
    },
    "9d9b3f835d5a4083993317bc35913d25": {
     "model_module": "@jupyter-widgets/controls",
     "model_module_version": "1.5.0",
     "model_name": "HTMLModel",
     "state": {
      "_dom_classes": [],
      "_model_module": "@jupyter-widgets/controls",
      "_model_module_version": "1.5.0",
      "_model_name": "HTMLModel",
      "_view_count": null,
      "_view_module": "@jupyter-widgets/controls",
      "_view_module_version": "1.5.0",
      "_view_name": "HTMLView",
      "description": "",
      "description_tooltip": null,
      "layout": "IPY_MODEL_be6cd6f7cff84ed49b3ac9f1ab49bb73",
      "placeholder": "​",
      "style": "IPY_MODEL_5db85e614e24496aa43a7a2faf08660e",
      "value": "100%"
     }
    },
    "a20352c67cc543048fbcb5f35064fab0": {
     "model_module": "@jupyter-widgets/base",
     "model_module_version": "1.2.0",
     "model_name": "LayoutModel",
     "state": {
      "_model_module": "@jupyter-widgets/base",
      "_model_module_version": "1.2.0",
      "_model_name": "LayoutModel",
      "_view_count": null,
      "_view_module": "@jupyter-widgets/base",
      "_view_module_version": "1.2.0",
      "_view_name": "LayoutView",
      "align_content": null,
      "align_items": null,
      "align_self": null,
      "border": null,
      "bottom": null,
      "display": null,
      "flex": null,
      "flex_flow": null,
      "grid_area": null,
      "grid_auto_columns": null,
      "grid_auto_flow": null,
      "grid_auto_rows": null,
      "grid_column": null,
      "grid_gap": null,
      "grid_row": null,
      "grid_template_areas": null,
      "grid_template_columns": null,
      "grid_template_rows": null,
      "height": null,
      "justify_content": null,
      "justify_items": null,
      "left": null,
      "margin": null,
      "max_height": null,
      "max_width": null,
      "min_height": null,
      "min_width": null,
      "object_fit": null,
      "object_position": null,
      "order": null,
      "overflow": null,
      "overflow_x": null,
      "overflow_y": null,
      "padding": null,
      "right": null,
      "top": null,
      "visibility": null,
      "width": null
     }
    },
    "be6cd6f7cff84ed49b3ac9f1ab49bb73": {
     "model_module": "@jupyter-widgets/base",
     "model_module_version": "1.2.0",
     "model_name": "LayoutModel",
     "state": {
      "_model_module": "@jupyter-widgets/base",
      "_model_module_version": "1.2.0",
      "_model_name": "LayoutModel",
      "_view_count": null,
      "_view_module": "@jupyter-widgets/base",
      "_view_module_version": "1.2.0",
      "_view_name": "LayoutView",
      "align_content": null,
      "align_items": null,
      "align_self": null,
      "border": null,
      "bottom": null,
      "display": null,
      "flex": null,
      "flex_flow": null,
      "grid_area": null,
      "grid_auto_columns": null,
      "grid_auto_flow": null,
      "grid_auto_rows": null,
      "grid_column": null,
      "grid_gap": null,
      "grid_row": null,
      "grid_template_areas": null,
      "grid_template_columns": null,
      "grid_template_rows": null,
      "height": null,
      "justify_content": null,
      "justify_items": null,
      "left": null,
      "margin": null,
      "max_height": null,
      "max_width": null,
      "min_height": null,
      "min_width": null,
      "object_fit": null,
      "object_position": null,
      "order": null,
      "overflow": null,
      "overflow_x": null,
      "overflow_y": null,
      "padding": null,
      "right": null,
      "top": null,
      "visibility": null,
      "width": null
     }
    },
    "bf31742fbcc140a0b050c3a2381ba1be": {
     "model_module": "@jupyter-widgets/controls",
     "model_module_version": "1.5.0",
     "model_name": "FloatProgressModel",
     "state": {
      "_dom_classes": [],
      "_model_module": "@jupyter-widgets/controls",
      "_model_module_version": "1.5.0",
      "_model_name": "FloatProgressModel",
      "_view_count": null,
      "_view_module": "@jupyter-widgets/controls",
      "_view_module_version": "1.5.0",
      "_view_name": "ProgressView",
      "bar_style": "",
      "description": "",
      "description_tooltip": null,
      "layout": "IPY_MODEL_57fbae6c4000458c8bc79cfb456bb537",
      "max": 60000,
      "min": 0,
      "orientation": "horizontal",
      "style": "IPY_MODEL_89c70dfe7d5047f68271044e1fab6873",
      "value": 1002
     }
    },
    "c50cbc31e84f4b0ca3837b2ef5b698b7": {
     "model_module": "@jupyter-widgets/controls",
     "model_module_version": "1.5.0",
     "model_name": "FloatProgressModel",
     "state": {
      "_dom_classes": [],
      "_model_module": "@jupyter-widgets/controls",
      "_model_module_version": "1.5.0",
      "_model_name": "FloatProgressModel",
      "_view_count": null,
      "_view_module": "@jupyter-widgets/controls",
      "_view_module_version": "1.5.0",
      "_view_name": "ProgressView",
      "bar_style": "success",
      "description": "",
      "description_tooltip": null,
      "layout": "IPY_MODEL_336fc229c897449ca9295a3550aaa69b",
      "max": 20,
      "min": 0,
      "orientation": "horizontal",
      "style": "IPY_MODEL_c7269676487043818f7621167dd36f0b",
      "value": 20
     }
    },
    "c7269676487043818f7621167dd36f0b": {
     "model_module": "@jupyter-widgets/controls",
     "model_module_version": "1.5.0",
     "model_name": "ProgressStyleModel",
     "state": {
      "_model_module": "@jupyter-widgets/controls",
      "_model_module_version": "1.5.0",
      "_model_name": "ProgressStyleModel",
      "_view_count": null,
      "_view_module": "@jupyter-widgets/base",
      "_view_module_version": "1.2.0",
      "_view_name": "StyleView",
      "bar_color": null,
      "description_width": ""
     }
    },
    "cc5fb9157a7241f1a1481ab79568ae2a": {
     "model_module": "@jupyter-widgets/controls",
     "model_module_version": "1.5.0",
     "model_name": "FloatProgressModel",
     "state": {
      "_dom_classes": [],
      "_model_module": "@jupyter-widgets/controls",
      "_model_module_version": "1.5.0",
      "_model_name": "FloatProgressModel",
      "_view_count": null,
      "_view_module": "@jupyter-widgets/controls",
      "_view_module_version": "1.5.0",
      "_view_name": "ProgressView",
      "bar_style": "success",
      "description": "",
      "description_tooltip": null,
      "layout": "IPY_MODEL_7e7087b94ab145e796f31e5ed7ba0702",
      "max": 60000,
      "min": 0,
      "orientation": "horizontal",
      "style": "IPY_MODEL_3fa4b2c235d049c78ab8fb281ff7db50",
      "value": 59934
     }
    },
    "d06cc6e9d4a74ff389afceb47ec47a48": {
     "model_module": "@jupyter-widgets/controls",
     "model_module_version": "1.5.0",
     "model_name": "DescriptionStyleModel",
     "state": {
      "_model_module": "@jupyter-widgets/controls",
      "_model_module_version": "1.5.0",
      "_model_name": "DescriptionStyleModel",
      "_view_count": null,
      "_view_module": "@jupyter-widgets/base",
      "_view_module_version": "1.2.0",
      "_view_name": "StyleView",
      "description_width": ""
     }
    },
    "df284a6a0b4f4cea9d4572e0fa510d5c": {
     "model_module": "@jupyter-widgets/controls",
     "model_module_version": "1.5.0",
     "model_name": "HTMLModel",
     "state": {
      "_dom_classes": [],
      "_model_module": "@jupyter-widgets/controls",
      "_model_module_version": "1.5.0",
      "_model_name": "HTMLModel",
      "_view_count": null,
      "_view_module": "@jupyter-widgets/controls",
      "_view_module_version": "1.5.0",
      "_view_name": "HTMLView",
      "description": "",
      "description_tooltip": null,
      "layout": "IPY_MODEL_74ebdd7b634e41059d35ab0cd240cfbd",
      "placeholder": "​",
      "style": "IPY_MODEL_8f2e8f880866484eb014022c911fdbe8",
      "value": " 20/20 [43:01&lt;00:00, 130.00s/it]"
     }
    },
    "f4a772b945ab4f02a9dba8399fac594e": {
     "model_module": "@jupyter-widgets/controls",
     "model_module_version": "1.5.0",
     "model_name": "HBoxModel",
     "state": {
      "_dom_classes": [],
      "_model_module": "@jupyter-widgets/controls",
      "_model_module_version": "1.5.0",
      "_model_name": "HBoxModel",
      "_view_count": null,
      "_view_module": "@jupyter-widgets/controls",
      "_view_module_version": "1.5.0",
      "_view_name": "HBoxView",
      "box_style": "",
      "children": [
       "IPY_MODEL_3da0d7b7f3c341ff8f2e7d5d662708c0",
       "IPY_MODEL_5741d015f6634efc9bb2965f23a0aa36",
       "IPY_MODEL_3df392b10bdd422ebe9f61da8bcf3a30"
      ],
      "layout": "IPY_MODEL_2c8f11fb56f44b6dba9e755cf7c80d56"
     }
    },
    "f844f07dabfb43f1be2e16951ac388ee": {
     "model_module": "@jupyter-widgets/controls",
     "model_module_version": "1.5.0",
     "model_name": "HTMLModel",
     "state": {
      "_dom_classes": [],
      "_model_module": "@jupyter-widgets/controls",
      "_model_module_version": "1.5.0",
      "_model_name": "HTMLModel",
      "_view_count": null,
      "_view_module": "@jupyter-widgets/controls",
      "_view_module_version": "1.5.0",
      "_view_name": "HTMLView",
      "description": "",
      "description_tooltip": null,
      "layout": "IPY_MODEL_71ec931318e847efa5ccc7085d914935",
      "placeholder": "​",
      "style": "IPY_MODEL_8e99079955e041bea199c3f39974f401",
      "value": "epoch 0:   2%"
     }
    }
   }
  }
 },
 "nbformat": 4,
 "nbformat_minor": 5
}
